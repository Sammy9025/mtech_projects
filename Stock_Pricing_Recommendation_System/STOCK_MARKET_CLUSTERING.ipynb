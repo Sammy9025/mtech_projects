{
 "cells": [
  {
   "cell_type": "markdown",
   "metadata": {},
   "source": [
    "# STOCK MARKET ANALYSIS"
   ]
  },
  {
   "cell_type": "markdown",
   "metadata": {},
   "source": [
    "**Company Stock Recommendation System for New Investor based on daily Stock movement using Kmeans Clustering and DBSCAN.**<br>\n",
    "\n",
    "**Extracting live Stock Market data from yahoo finance.Finding similarities amongst various companies using their stock market prices and then cluster them into different clusters using the various algorithem like K-Means etc.**"
   ]
  },
  {
   "cell_type": "markdown",
   "metadata": {},
   "source": [
    "## Table of Content\n",
    "\n",
    "1. **[Import Libraries](#lib)**\n",
    "2. **[Data Preparation](#prep)**\n",
    "    - 2.1 - **[Read the Data](#read)**\n",
    "    - 2.2 - **[Check the Data Type](#dtype)**\n",
    "    - 2.3 - **[Missing Value Treatment](#null)**\n",
    "3. **[Stock Analysis](#SA)**\n",
    "    - 3.1 - **[Compare the OPEN prices for different companies](#c1)**\n",
    "    - 3.2 - **[Date-wise movement of stocks of a particular company](#c2)**\n",
    "    - 3.3 - **[Volume vs Date for a particular company](#c3)**\n",
    "    - 3.4 - **[Comparison between movements of any four companies](#c4)**\n",
    "4. **[Cluster Analysis](#cluster)**\n",
    "    - 4.1 - **[Clustering based on daily growth basis i.e movement](#cl1)**\n",
    "    - 4.2 - **[ K-Means Clustering Validation](#kmeansval)**\n",
    "         - 4.2.1 - **[Elbow Plot](#elbow)**\n",
    "         - 4.2.2 - **[ silhouette score for Different Clusters](#silhouette)**\n",
    "    - 4.3 - **[ KMeans Clustering with 3 Clusters](#kmeans)**\n",
    "5. **[Clusters profiling](#cp)**\n",
    "    - 5.1 - **[Cluster-0](#cp2)**\n",
    "    - 5.2 - **[Cluster-1](#cp3)**\n",
    "    - 5.3 - **[Cluster-2](#cp4)**\n",
    "    \n",
    "6. **[DBSCAN (Density-Based Spatial Clustering of Applications with Noise)](#dbscan)**\n",
    "7. **[Recommendation Based on Cluster Analysis](#rec)**"
   ]
  },
  {
   "cell_type": "markdown",
   "metadata": {},
   "source": [
    "<a id=\"lib\"></a>\n",
    "# 1. Import Libraries"
   ]
  },
  {
   "cell_type": "code",
   "execution_count": 4,
   "metadata": {},
   "outputs": [],
   "source": [
    "from pandas_datareader import data \n",
    "import matplotlib.pyplot as plt\n",
    "import pandas as pd\n",
    "import datetime\n",
    "import numpy as np\n",
    "import plotly.graph_objects as go\n",
    "\n",
    "from sklearn.preprocessing import Normalizer\n",
    "from sklearn.pipeline import make_pipeline\n",
    "from sklearn.preprocessing import Normalizer\n",
    "from sklearn.cluster import KMeans\n",
    "from sklearn.decomposition import PCA\n",
    "\n",
    "import warnings\n",
    "warnings.simplefilter(\"ignore\")"
   ]
  },
  {
   "cell_type": "markdown",
   "metadata": {},
   "source": [
    "<a id=\"prep\"></a>\n",
    "# 2. Data Preparation"
   ]
  },
  {
   "cell_type": "markdown",
   "metadata": {},
   "source": [
    "#### A dictionary ‘companies_dict’ is defined where ‘key’ is company’s name and ‘value’ is company’s stock code. 28 companies are considered."
   ]
  },
  {
   "cell_type": "code",
   "execution_count": 5,
   "metadata": {},
   "outputs": [],
   "source": [
    "companies_dict = {\n",
    "    'Bharti Airtel Limited':'BHARTIARTL.BO',\n",
    "    'Reliance Communications Limited':'RCOM.BO',\n",
    "    'Vodafone Idea Limited':'IDEA.BO',\n",
    "    'Mahanagar Telephone Nigam Limited':'MTNL.BO',\n",
    "    'Tata Communications Limited':'TATACOMM.BO',\n",
    "    'Vindhya Telelinks Limited':'VINDHYATEL.BO',\n",
    "    'CMI Limited':'CMI.BO',\n",
    "    'ITI Limited':'ITI.BO',\n",
    "    'OnMobile Global Limited':'ONMOBILE.BO',\n",
    "    'HFCL Limited':'HFCL.BO',\n",
    "    'Aksh Optifibre Limited':'AKSHOPTFBR.BO',\n",
    "    'GTL Infrastructure Limited':'GTLINFRA.BO',\n",
    "    'Tata Teleservices (Maharashtra) Limited':'TTML.BO',\n",
    "    'AGI Infra Limited':'AGIIL.BO',\n",
    "    'Vodafone Idea Limited':'IDEA.BO',\n",
    "    'Bigbloc Construction Limited':'BIGBLOC.BO',\n",
    "    'BSEL Infrastructure Realty Limited':'BSELINFRA.BO',\n",
    "    'Crane Infrastructure Limited':'CRANEINFRA.BO',\n",
    "    'Entasis Therapeutics Holdings Inc.':'ETTX',\n",
    "    'HB Estate Developers Limited':'HBESD.BO',\n",
    "    'KCL Infra Projects Limited':'KCLINFRA.BO',\n",
    "    'Maruti Infrastructure Limited':'MAINFRA.BO',\n",
    "    'Supreme Holdings & Hospitality (India) Limited':'SUPREME.BO',\n",
    "    'TCI Developers Limited':'TCIDEVELOP.BO',\n",
    "    'Vas Infrastructure Limited':'VASINFRA.BO',\n",
    "    'Adani Power Limited':'ADANIPOWER.BO',\n",
    "    'Adani Transmission Limited':'ADANITRANS.BO',\n",
    "    'CESC Limited':'CESC.BO',\n",
    "    'Gita Renewable Energy Limited':'GITARENEW.BO',\n",
    "    'IDEX Corporation':'IEX',\n",
    "    'Indowind Energy Limited':'INDOWIND.BO',\n",
    "    'JSW Energy Limited':'JSWENERGY.NS',\n",
    "    'Karma Energy Limited':'KARMAENG.NS',\n",
    "    'NHPC Limited':'NHPC.BO',\n",
    "    'NLC India Limited':'NLCINDIA.NS',\n",
    "    'NTPC Limited':'NTPC.NS',\n",
    "    'Orient Green Power Company Limited':'GREENPOWER.NS',\n",
    "    'PTC India Financial Services Limited':'PFS.NS',\n",
    "    'Power Grid Corporation of India Limited':'POWERGRID.NS',\n",
    "    'Reliance Power Limited':'RPOWER.NS',\n",
    "    'ACC Limited':'ACC.BO',\n",
    "    'Ambuja Cements Limited':'AMBUJACEM.NS',\n",
    "    'Andhra Cements Limited':'ANDHRACEMT.NS',\n",
    "    'Burnpur Cement Limited':'BURNPUR.NS',\n",
    "    'Deccan Cements Limited':'DECCANCE.BO',\n",
    "    'Everest Industries Limited':'EVERESTIND.BO',\n",
    "    'J K Cement Limited':'JKCEMENT.BO',\n",
    "    'JK Lakshmi Cement Limited':'JKLAKSHMI.BO',\n",
    "    'The KCP Limited':'KCP.NS',\n",
    "    'NCL Industries Limited':'NCLIND.BO',\n",
    "    'Orient Cement Limited':'ORIENTCEM.BO',\n",
    "    'The Ramco Cements Limited':'RAMCOCEM.BO',\n",
    "    'Star Cement Limited':'STARCEMENT.BO',\n",
    "    'Udaipur Cement Works Limited':'UDAICEMENT.BO',\n",
    "    'UltraTech Cement Limited':'ULTRACEMCO.BO'}"
   ]
  },
  {
   "cell_type": "code",
   "execution_count": 6,
   "metadata": {},
   "outputs": [
    {
     "data": {
      "text/plain": [
       "54"
      ]
     },
     "execution_count": 6,
     "metadata": {},
     "output_type": "execute_result"
    }
   ],
   "source": [
    "len(companies_dict)"
   ]
  },
  {
   "cell_type": "markdown",
   "metadata": {},
   "source": [
    "<a id=\"read\"></a>\n",
    "## 2.1 Read The Data"
   ]
  },
  {
   "cell_type": "markdown",
   "metadata": {},
   "source": [
    "#### Web extract data (Web Scraping) from yahoo finance into a pandas DataFrame"
   ]
  },
  {
   "cell_type": "code",
   "execution_count": 22,
   "metadata": {},
   "outputs": [],
   "source": [
    "data_source = 'yahoo'\n",
    "start_date = '2020-01-01'\n",
    "end_date = '2021-04-23'\n",
    "df = data.DataReader(list(companies_dict.values()),\n",
    "data_source,start_date,end_date)"
   ]
  },
  {
   "cell_type": "code",
   "execution_count": 23,
   "metadata": {},
   "outputs": [
    {
     "data": {
      "text/html": [
       "<div>\n",
       "<style scoped>\n",
       "    .dataframe tbody tr th:only-of-type {\n",
       "        vertical-align: middle;\n",
       "    }\n",
       "\n",
       "    .dataframe tbody tr th {\n",
       "        vertical-align: top;\n",
       "    }\n",
       "\n",
       "    .dataframe thead tr th {\n",
       "        text-align: left;\n",
       "    }\n",
       "\n",
       "    .dataframe thead tr:last-of-type th {\n",
       "        text-align: right;\n",
       "    }\n",
       "</style>\n",
       "<table border=\"1\" class=\"dataframe\">\n",
       "  <thead>\n",
       "    <tr>\n",
       "      <th>Attributes</th>\n",
       "      <th colspan=\"10\" halign=\"left\">Adj Close</th>\n",
       "      <th>...</th>\n",
       "      <th colspan=\"10\" halign=\"left\">Volume</th>\n",
       "    </tr>\n",
       "    <tr>\n",
       "      <th>Symbols</th>\n",
       "      <th>BHARTIARTL.BO</th>\n",
       "      <th>RCOM.BO</th>\n",
       "      <th>IDEA.BO</th>\n",
       "      <th>MTNL.BO</th>\n",
       "      <th>TATACOMM.BO</th>\n",
       "      <th>VINDHYATEL.BO</th>\n",
       "      <th>CMI.BO</th>\n",
       "      <th>ITI.BO</th>\n",
       "      <th>ONMOBILE.BO</th>\n",
       "      <th>HFCL.BO</th>\n",
       "      <th>...</th>\n",
       "      <th>EVERESTIND.BO</th>\n",
       "      <th>JKCEMENT.BO</th>\n",
       "      <th>JKLAKSHMI.BO</th>\n",
       "      <th>KCP.NS</th>\n",
       "      <th>NCLIND.BO</th>\n",
       "      <th>ORIENTCEM.BO</th>\n",
       "      <th>RAMCOCEM.BO</th>\n",
       "      <th>STARCEMENT.BO</th>\n",
       "      <th>UDAICEMENT.BO</th>\n",
       "      <th>ULTRACEMCO.BO</th>\n",
       "    </tr>\n",
       "    <tr>\n",
       "      <th>Date</th>\n",
       "      <th></th>\n",
       "      <th></th>\n",
       "      <th></th>\n",
       "      <th></th>\n",
       "      <th></th>\n",
       "      <th></th>\n",
       "      <th></th>\n",
       "      <th></th>\n",
       "      <th></th>\n",
       "      <th></th>\n",
       "      <th></th>\n",
       "      <th></th>\n",
       "      <th></th>\n",
       "      <th></th>\n",
       "      <th></th>\n",
       "      <th></th>\n",
       "      <th></th>\n",
       "      <th></th>\n",
       "      <th></th>\n",
       "      <th></th>\n",
       "      <th></th>\n",
       "    </tr>\n",
       "  </thead>\n",
       "  <tbody>\n",
       "    <tr>\n",
       "      <th>2019-12-31</th>\n",
       "      <td>NaN</td>\n",
       "      <td>NaN</td>\n",
       "      <td>NaN</td>\n",
       "      <td>NaN</td>\n",
       "      <td>NaN</td>\n",
       "      <td>NaN</td>\n",
       "      <td>NaN</td>\n",
       "      <td>NaN</td>\n",
       "      <td>NaN</td>\n",
       "      <td>NaN</td>\n",
       "      <td>...</td>\n",
       "      <td>NaN</td>\n",
       "      <td>NaN</td>\n",
       "      <td>NaN</td>\n",
       "      <td>NaN</td>\n",
       "      <td>NaN</td>\n",
       "      <td>NaN</td>\n",
       "      <td>NaN</td>\n",
       "      <td>NaN</td>\n",
       "      <td>NaN</td>\n",
       "      <td>NaN</td>\n",
       "    </tr>\n",
       "    <tr>\n",
       "      <th>2020-01-01</th>\n",
       "      <td>451.677734</td>\n",
       "      <td>0.87</td>\n",
       "      <td>6.11</td>\n",
       "      <td>9.45</td>\n",
       "      <td>396.643951</td>\n",
       "      <td>938.967529</td>\n",
       "      <td>47.467934</td>\n",
       "      <td>91.900002</td>\n",
       "      <td>29.600260</td>\n",
       "      <td>17.450001</td>\n",
       "      <td>...</td>\n",
       "      <td>1195.0</td>\n",
       "      <td>882.0</td>\n",
       "      <td>2026.0</td>\n",
       "      <td>57086.0</td>\n",
       "      <td>102205.0</td>\n",
       "      <td>1704.0</td>\n",
       "      <td>1150.0</td>\n",
       "      <td>1558.0</td>\n",
       "      <td>24239.0</td>\n",
       "      <td>5668.0</td>\n",
       "    </tr>\n",
       "    <tr>\n",
       "      <th>2020-01-02</th>\n",
       "      <td>453.371643</td>\n",
       "      <td>0.89</td>\n",
       "      <td>6.11</td>\n",
       "      <td>9.43</td>\n",
       "      <td>403.065552</td>\n",
       "      <td>941.827576</td>\n",
       "      <td>49.491001</td>\n",
       "      <td>95.750000</td>\n",
       "      <td>30.617619</td>\n",
       "      <td>17.900000</td>\n",
       "      <td>...</td>\n",
       "      <td>30089.0</td>\n",
       "      <td>4256.0</td>\n",
       "      <td>15010.0</td>\n",
       "      <td>271252.0</td>\n",
       "      <td>12345.0</td>\n",
       "      <td>15920.0</td>\n",
       "      <td>17949.0</td>\n",
       "      <td>17311.0</td>\n",
       "      <td>189840.0</td>\n",
       "      <td>51139.0</td>\n",
       "    </tr>\n",
       "    <tr>\n",
       "      <th>2020-01-03</th>\n",
       "      <td>453.371643</td>\n",
       "      <td>0.85</td>\n",
       "      <td>6.12</td>\n",
       "      <td>9.90</td>\n",
       "      <td>418.098999</td>\n",
       "      <td>927.922058</td>\n",
       "      <td>49.194939</td>\n",
       "      <td>94.800003</td>\n",
       "      <td>30.084715</td>\n",
       "      <td>17.750000</td>\n",
       "      <td>...</td>\n",
       "      <td>24548.0</td>\n",
       "      <td>7663.0</td>\n",
       "      <td>42199.0</td>\n",
       "      <td>40933.0</td>\n",
       "      <td>13793.0</td>\n",
       "      <td>6095.0</td>\n",
       "      <td>5096.0</td>\n",
       "      <td>4643.0</td>\n",
       "      <td>221418.0</td>\n",
       "      <td>15345.0</td>\n",
       "    </tr>\n",
       "    <tr>\n",
       "      <th>2020-01-06</th>\n",
       "      <td>447.891327</td>\n",
       "      <td>0.84</td>\n",
       "      <td>6.02</td>\n",
       "      <td>10.00</td>\n",
       "      <td>412.971680</td>\n",
       "      <td>887.438232</td>\n",
       "      <td>46.925163</td>\n",
       "      <td>91.650002</td>\n",
       "      <td>28.728239</td>\n",
       "      <td>17.250000</td>\n",
       "      <td>...</td>\n",
       "      <td>16637.0</td>\n",
       "      <td>3562.0</td>\n",
       "      <td>11911.0</td>\n",
       "      <td>35026.0</td>\n",
       "      <td>1931.0</td>\n",
       "      <td>1278.0</td>\n",
       "      <td>9085.0</td>\n",
       "      <td>4085.0</td>\n",
       "      <td>81263.0</td>\n",
       "      <td>21059.0</td>\n",
       "    </tr>\n",
       "  </tbody>\n",
       "</table>\n",
       "<p>5 rows × 324 columns</p>\n",
       "</div>"
      ],
      "text/plain": [
       "Attributes     Adj Close                                                    \\\n",
       "Symbols    BHARTIARTL.BO RCOM.BO IDEA.BO MTNL.BO TATACOMM.BO VINDHYATEL.BO   \n",
       "Date                                                                         \n",
       "2019-12-31           NaN     NaN     NaN     NaN         NaN           NaN   \n",
       "2020-01-01    451.677734    0.87    6.11    9.45  396.643951    938.967529   \n",
       "2020-01-02    453.371643    0.89    6.11    9.43  403.065552    941.827576   \n",
       "2020-01-03    453.371643    0.85    6.12    9.90  418.098999    927.922058   \n",
       "2020-01-06    447.891327    0.84    6.02   10.00  412.971680    887.438232   \n",
       "\n",
       "Attributes                                               ...        Volume  \\\n",
       "Symbols        CMI.BO     ITI.BO ONMOBILE.BO    HFCL.BO  ... EVERESTIND.BO   \n",
       "Date                                                     ...                 \n",
       "2019-12-31        NaN        NaN         NaN        NaN  ...           NaN   \n",
       "2020-01-01  47.467934  91.900002   29.600260  17.450001  ...        1195.0   \n",
       "2020-01-02  49.491001  95.750000   30.617619  17.900000  ...       30089.0   \n",
       "2020-01-03  49.194939  94.800003   30.084715  17.750000  ...       24548.0   \n",
       "2020-01-06  46.925163  91.650002   28.728239  17.250000  ...       16637.0   \n",
       "\n",
       "Attributes                                                            \\\n",
       "Symbols    JKCEMENT.BO JKLAKSHMI.BO    KCP.NS NCLIND.BO ORIENTCEM.BO   \n",
       "Date                                                                   \n",
       "2019-12-31         NaN          NaN       NaN       NaN          NaN   \n",
       "2020-01-01       882.0       2026.0   57086.0  102205.0       1704.0   \n",
       "2020-01-02      4256.0      15010.0  271252.0   12345.0      15920.0   \n",
       "2020-01-03      7663.0      42199.0   40933.0   13793.0       6095.0   \n",
       "2020-01-06      3562.0      11911.0   35026.0    1931.0       1278.0   \n",
       "\n",
       "Attributes                                                        \n",
       "Symbols    RAMCOCEM.BO STARCEMENT.BO UDAICEMENT.BO ULTRACEMCO.BO  \n",
       "Date                                                              \n",
       "2019-12-31         NaN           NaN           NaN           NaN  \n",
       "2020-01-01      1150.0        1558.0       24239.0        5668.0  \n",
       "2020-01-02     17949.0       17311.0      189840.0       51139.0  \n",
       "2020-01-03      5096.0        4643.0      221418.0       15345.0  \n",
       "2020-01-06      9085.0        4085.0       81263.0       21059.0  \n",
       "\n",
       "[5 rows x 324 columns]"
      ]
     },
     "execution_count": 23,
     "metadata": {},
     "output_type": "execute_result"
    }
   ],
   "source": [
    "df.head()"
   ]
  },
  {
   "cell_type": "markdown",
   "metadata": {},
   "source": [
    "#### Check the shape of the data"
   ]
  },
  {
   "cell_type": "code",
   "execution_count": 24,
   "metadata": {},
   "outputs": [
    {
     "data": {
      "text/plain": [
       "(340, 324)"
      ]
     },
     "execution_count": 24,
     "metadata": {},
     "output_type": "execute_result"
    }
   ],
   "source": [
    "df.shape"
   ]
  },
  {
   "cell_type": "markdown",
   "metadata": {},
   "source": [
    "**Interpretation:** There are total 324 features like - **Ajd Close**, **Close**, **High**, **Low**, **Open**, **Volume**. and rows representing\n",
    "340 days of stock market data of all 54 companies from given start date to end date."
   ]
  },
  {
   "cell_type": "markdown",
   "metadata": {},
   "source": [
    "<a id=\"dtype\"></a>\n",
    "### 2.2 Check the Data Type"
   ]
  },
  {
   "cell_type": "code",
   "execution_count": 25,
   "metadata": {},
   "outputs": [
    {
     "data": {
      "text/plain": [
       "Attributes  Symbols      \n",
       "Adj Close   BHARTIARTL.BO    float64\n",
       "            RCOM.BO          float64\n",
       "            IDEA.BO          float64\n",
       "            MTNL.BO          float64\n",
       "            TATACOMM.BO      float64\n",
       "                              ...   \n",
       "Volume      ORIENTCEM.BO     float64\n",
       "            RAMCOCEM.BO      float64\n",
       "            STARCEMENT.BO    float64\n",
       "            UDAICEMENT.BO    float64\n",
       "            ULTRACEMCO.BO    float64\n",
       "Length: 324, dtype: object"
      ]
     },
     "execution_count": 25,
     "metadata": {},
     "output_type": "execute_result"
    }
   ],
   "source": [
    "df.dtypes"
   ]
  },
  {
   "cell_type": "markdown",
   "metadata": {},
   "source": [
    "<a id=\"null\"></a>\n",
    "### 2.3 Missing Value Treatment"
   ]
  },
  {
   "cell_type": "code",
   "execution_count": 26,
   "metadata": {},
   "outputs": [
    {
     "data": {
      "text/plain": [
       "Attributes  Symbols      \n",
       "Adj Close   BHARTIARTL.BO    15\n",
       "            RCOM.BO          15\n",
       "            IDEA.BO          15\n",
       "            MTNL.BO          15\n",
       "            TATACOMM.BO      15\n",
       "                             ..\n",
       "Volume      ORIENTCEM.BO     15\n",
       "            RAMCOCEM.BO      15\n",
       "            STARCEMENT.BO    15\n",
       "            UDAICEMENT.BO    15\n",
       "            ULTRACEMCO.BO    15\n",
       "Length: 324, dtype: int64"
      ]
     },
     "execution_count": 26,
     "metadata": {},
     "output_type": "execute_result"
    }
   ],
   "source": [
    "df.isna().sum()"
   ]
  },
  {
   "cell_type": "code",
   "execution_count": 27,
   "metadata": {},
   "outputs": [],
   "source": [
    "df=df.dropna()"
   ]
  },
  {
   "cell_type": "code",
   "execution_count": 28,
   "metadata": {},
   "outputs": [
    {
     "data": {
      "text/plain": [
       "Attributes  Symbols      \n",
       "Adj Close   BHARTIARTL.BO    0\n",
       "            RCOM.BO          0\n",
       "            IDEA.BO          0\n",
       "            MTNL.BO          0\n",
       "            TATACOMM.BO      0\n",
       "                            ..\n",
       "Volume      ORIENTCEM.BO     0\n",
       "            RAMCOCEM.BO      0\n",
       "            STARCEMENT.BO    0\n",
       "            UDAICEMENT.BO    0\n",
       "            ULTRACEMCO.BO    0\n",
       "Length: 324, dtype: int64"
      ]
     },
     "execution_count": 28,
     "metadata": {},
     "output_type": "execute_result"
    }
   ],
   "source": [
    "df.isna().sum()"
   ]
  },
  {
   "cell_type": "code",
   "execution_count": 29,
   "metadata": {},
   "outputs": [
    {
     "data": {
      "text/plain": [
       "(316, 324)"
      ]
     },
     "execution_count": 29,
     "metadata": {},
     "output_type": "execute_result"
    }
   ],
   "source": [
    "df.shape"
   ]
  },
  {
   "cell_type": "markdown",
   "metadata": {},
   "source": [
    "**Interpretation:** There is no missing values in the data."
   ]
  },
  {
   "cell_type": "code",
   "execution_count": 35,
   "metadata": {},
   "outputs": [
    {
     "data": {
      "text/plain": [
       "(54, 316)"
      ]
     },
     "execution_count": 35,
     "metadata": {},
     "output_type": "execute_result"
    }
   ],
   "source": [
    "stock_open = np.array(df['Open']).T \n",
    "stock_close = np.array(df['Close']).T \n",
    "movements = stock_close - stock_open\n",
    "movements.shape"
   ]
  },
  {
   "cell_type": "code",
   "execution_count": 36,
   "metadata": {},
   "outputs": [],
   "source": [
    "sum_of_movement = np.sum(movements,axis=1)\n",
    "net_change=sum_of_movement"
   ]
  },
  {
   "cell_type": "code",
   "execution_count": 37,
   "metadata": {},
   "outputs": [],
   "source": [
    "stock_high = np.array(df['High']).T \n",
    "stock_low = np.array(df['Low']).T\n",
    "\n",
    "sensitivity=stock_high-stock_low\n",
    "sum_of_sensitivity = np.mean(sensitivity,axis=1)\n",
    "avg_rr=sum_of_sensitivity"
   ]
  },
  {
   "cell_type": "code",
   "execution_count": 38,
   "metadata": {},
   "outputs": [],
   "source": [
    "volume=np.array(df['Volume']).T\n",
    "\n",
    "avg_of_volume=np.mean(volume,axis=1)"
   ]
  },
  {
   "cell_type": "markdown",
   "metadata": {},
   "source": [
    "**Interpretation:** ‘Movements’ is defined as difference of opening and closing prices of a particular day. Positive movement suggests to go long on stock(buy) and negative movement suggests to short the stock(sell). So it is basically measuring day by day growth of the company shares."
   ]
  },
  {
   "cell_type": "markdown",
   "metadata": {},
   "source": [
    "**Interpretation:** ‘sum_of_movement’ i.e net_change of a company is defined as sum of differences of closing and opening prices of all days."
   ]
  },
  {
   "cell_type": "markdown",
   "metadata": {},
   "source": [
    "**Interpretation:** ‘Sensitivity’ is defined as difference of High and Low prices of a particular day. So it is basically representing band of Risk and Return. More the band more is the chance of getting high return but on the same time more is the chance of loosing the money as well."
   ]
  },
  {
   "cell_type": "markdown",
   "metadata": {},
   "source": [
    "**Interpretation:** ‘sum_of_sensitivity’ i.e avg_rr of a company is defined as sum of differences of closing and opening prices of all days."
   ]
  },
  {
   "cell_type": "markdown",
   "metadata": {},
   "source": [
    "**Interpretation:** ‘avg_of_volume’  of a company is defined as sum of volume of all days which is measuring no of share trading of all 54 companies on an avg for particular day."
   ]
  },
  {
   "cell_type": "markdown",
   "metadata": {},
   "source": [
    "<a id=\"SA\"></a>\n",
    "# 3.Stock Analysis"
   ]
  },
  {
   "cell_type": "code",
   "execution_count": 39,
   "metadata": {},
   "outputs": [
    {
     "name": "stdout",
     "output_type": "stream",
     "text": [
      "company:BHARTIARTL.BO, \t Net_Change:-502.1001892089844 \t dynamic:17.897943134549298\n",
      "company:RCOM.BO, \t Net_Change:-1.3299995064735413 \t dynamic:0.06822784490223173\n",
      "company:IDEA.BO, \t Net_Change:-8.679991960525513 \t dynamic:0.6228797088695478\n",
      "company:MTNL.BO, \t Net_Change:-17.63999366760254 \t dynamic:0.6170886030680016\n",
      "company:TATACOMM.BO, \t Net_Change:193.70021057128906 \t dynamic:38.0318036622639\n",
      "company:VINDHYATEL.BO, \t Net_Change:-1487.8001708984375 \t dynamic:31.796678567234473\n",
      "company:CMI.BO, \t Net_Change:-37.15000915527344 \t dynamic:2.0159812396085717\n",
      "company:ITI.BO, \t Net_Change:-189.74994659423828 \t dynamic:4.763132529922679\n",
      "company:ONMOBILE.BO, \t Net_Change:-114.77999305725098 \t dynamic:2.706297533421577\n",
      "company:HFCL.BO, \t Net_Change:-25.21998405456543 \t dynamic:1.0397152327284027\n",
      "company:AKSHOPTFBR.BO, \t Net_Change:-8.340001106262207 \t dynamic:0.31854428671583346\n",
      "company:GTLINFRA.BO, \t Net_Change:-0.4800001233816147 \t dynamic:0.026993671267092983\n",
      "company:TTML.BO, \t Net_Change:-6.720003247261047 \t dynamic:0.3249050718319567\n",
      "company:AGIIL.BO, \t Net_Change:2.6999969482421875 \t dynamic:2.9602849211873887\n",
      "company:BIGBLOC.BO, \t Net_Change:-7.399953842163086 \t dynamic:1.71629716173003\n",
      "company:BSELINFRA.BO, \t Net_Change:-0.3899995684623718 \t dynamic:0.040632910932166665\n",
      "company:CRANEINFRA.BO, \t Net_Change:-0.2499995231628418 \t dynamic:0.03518986852863167\n",
      "company:ETTX, \t Net_Change:-6.180000305175781 \t dynamic:0.22759494977661326\n",
      "company:HBESD.BO, \t Net_Change:38.42000436782837 \t dynamic:0.4985759469527232\n",
      "company:KCLINFRA.BO, \t Net_Change:-1.5000000596046448 \t dynamic:0.016803797098654736\n",
      "company:MAINFRA.BO, \t Net_Change:-40.35001087188721 \t dynamic:1.5367088317871094\n",
      "company:SUPREME.BO, \t Net_Change:-57.96999263763428 \t dynamic:0.9993353704862957\n",
      "company:TCIDEVELOP.BO, \t Net_Change:349.9501037597656 \t dynamic:10.322785437861576\n",
      "company:VASINFRA.BO, \t Net_Change:4.030000448226929 \t dynamic:0.0812341808518277\n",
      "company:ADANIPOWER.BO, \t Net_Change:-43.099985122680664 \t dynamic:2.1938292648218853\n",
      "company:ADANITRANS.BO, \t Net_Change:148.19976806640625 \t dynamic:20.723576992372923\n",
      "company:CESC.BO, \t Net_Change:-760.4497985839844 \t dynamic:22.55759729312945\n",
      "company:GITARENEW.BO, \t Net_Change:2.34999942779541 \t dynamic:0.01389240614975555\n",
      "company:IEX, \t Net_Change:27.50989532470703 \t dynamic:4.164905113509938\n",
      "company:INDOWIND.BO, \t Net_Change:-4.409998059272766 \t dynamic:0.20882911961289902\n",
      "company:JSWENERGY.NS, \t Net_Change:-11.349960327148438 \t dynamic:3.0205695719658574\n",
      "company:KARMAENG.NS, \t Net_Change:-25.399988174438477 \t dynamic:0.8074366382405728\n",
      "company:NHPC.BO, \t Net_Change:-22.449995040893555 \t dynamic:0.7022152309176288\n",
      "company:NLCINDIA.NS, \t Net_Change:-51.200016021728516 \t dynamic:1.6897155906580672\n",
      "company:NTPC.NS, \t Net_Change:-78.4499282836914 \t dynamic:3.3499997537347337\n",
      "company:GREENPOWER.NS, \t Net_Change:-6.049998879432678 \t dynamic:0.10395570382287231\n",
      "company:PFS.NS, \t Net_Change:-13.199999332427979 \t dynamic:0.8025316362139545\n",
      "company:POWERGRID.NS, \t Net_Change:3.200103759765625 \t dynamic:5.883385066744648\n",
      "company:RPOWER.NS, \t Net_Change:-4.700000643730164 \t dynamic:0.14889240604412707\n",
      "company:ACC.BO, \t Net_Change:-965.4512939453125 \t dynamic:47.303955078125\n",
      "company:AMBUJACEM.NS, \t Net_Change:-30.900039672851562 \t dynamic:7.899050265927858\n",
      "company:ANDHRACEMT.NS, \t Net_Change:-9.10000228881836 \t dynamic:0.20775314901448502\n",
      "company:BURNPUR.NS, \t Net_Change:-2.2999998927116394 \t dynamic:0.07199367296092118\n",
      "company:DECCANCE.BO, \t Net_Change:-489.6501922607422 \t dynamic:14.436234631115877\n",
      "company:EVERESTIND.BO, \t Net_Change:-204.4001007080078 \t dynamic:11.946043956128857\n",
      "company:JKCEMENT.BO, \t Net_Change:-2049.7999267578125 \t dynamic:70.56375856037381\n",
      "company:JKLAKSHMI.BO, \t Net_Change:-295.6001281738281 \t dynamic:12.475474780118919\n",
      "company:KCP.NS, \t Net_Change:-48.34998321533203 \t dynamic:3.4484179050107544\n",
      "company:NCLIND.BO, \t Net_Change:-88.04995346069336 \t dynamic:5.561234329320207\n",
      "company:ORIENTCEM.BO, \t Net_Change:-93.19989776611328 \t dynamic:3.5987342279168626\n",
      "company:RAMCOCEM.BO, \t Net_Change:-306.39947509765625 \t dynamic:27.305380712581588\n",
      "company:STARCEMENT.BO, \t Net_Change:-118.65000915527344 \t dynamic:3.710442820681801\n",
      "company:UDAICEMENT.BO, \t Net_Change:-37.48998546600342 \t dynamic:0.8435126331788075\n",
      "company:ULTRACEMCO.BO, \t Net_Change:-612.44970703125 \t dynamic:145.49873834923852\n"
     ]
    }
   ],
   "source": [
    "for i in range(len(companies_dict)):\n",
    "    print('company:{}, \\t Net_Change:{} \\t dynamic:{}'.format(df['High'].columns[i],sum_of_movement[i],sum_of_sensitivity[i]))"
   ]
  },
  {
   "cell_type": "markdown",
   "metadata": {},
   "source": [
    "**Interpretation:** From above we can see the movement of the stock. Like we can see 'BHARTIARTL.BO' --> which is Bhartiya Airtel Linited their stock movement is negative direction. And for 'TATACOMM.BO' --> which is Tata Communication stock showing positive movement."
   ]
  },
  {
   "cell_type": "markdown",
   "metadata": {},
   "source": [
    "<a id=\"c1\"></a>\n",
    "### 3.1 Compare the OPEN prices for different companies"
   ]
  },
  {
   "cell_type": "code",
   "execution_count": 44,
   "metadata": {},
   "outputs": [],
   "source": [
    "def compare(*args):\n",
    "    l=len(args)\n",
    "    i=0\n",
    "    if l<5:\n",
    "        while(i<l):\n",
    "            plt.figure(figsize = (20,10)) \n",
    "            plt.subplot(2,2,i+1) \n",
    "            plt.title('Company:'+args[i],fontsize = 20)\n",
    "            plt.xticks(fontsize = 10)\n",
    "            plt.yticks(fontsize = 20)\n",
    "            plt.xlabel('Date',fontsize = 15)\n",
    "            plt.ylabel('Opening price',fontsize = 15)\n",
    "            plt.plot(df['Open'][args[i]])\n",
    "            plt.grid(True)\n",
    "            i+=1 \n",
    "    else:\n",
    "        print('Please enter a number less than or equal to 4 to comapare')"
   ]
  },
  {
   "cell_type": "code",
   "execution_count": 45,
   "metadata": {},
   "outputs": [
    {
     "name": "stdout",
     "output_type": "stream",
     "text": [
      "Enter the name of the first company:HBESD.BO\n",
      "Enter the name of the second company:IEX\n",
      "Enter the name of the third company:VASINFRA.BO\n"
     ]
    }
   ],
   "source": [
    "comp1=input('Enter the name of the first company:')\n",
    "comp2=input('Enter the name of the second company:')\n",
    "comp3=input('Enter the name of the third company:')"
   ]
  },
  {
   "cell_type": "code",
   "execution_count": 46,
   "metadata": {
    "scrolled": true
   },
   "outputs": [
    {
     "data": {
      "image/png": "[encoded data removed]",
      "text/plain": [
       "<Figure size 1440x720 with 1 Axes>"
      ]
     },
     "metadata": {
      "needs_background": "light"
     },
     "output_type": "display_data"
    },
    {
     "data": {
      "image/png": "[encoded data removed]",
      "text/plain": [
       "<Figure size 1440x720 with 1 Axes>"
      ]
     },
     "metadata": {
      "needs_background": "light"
     },
     "output_type": "display_data"
    },
    {
     "data": {
      "image/png": "[encoded data removed]",
      "text/plain": [
       "<Figure size 1440x720 with 1 Axes>"
      ]
     },
     "metadata": {
      "needs_background": "light"
     },
     "output_type": "display_data"
    }
   ],
   "source": [
    "compare(comp1,comp2,comp3)"
   ]
  },
  {
   "cell_type": "markdown",
   "metadata": {},
   "source": [
    "**Interpretation:** Above 3 plots show the trend of HBESD.BO,IEX,VASINFRA.BO companies.\n",
    "All 3 companies shows decreasing trend in the opening price during 2020-03 and after that 2020-09 all 3 start rising up. "
   ]
  },
  {
   "cell_type": "markdown",
   "metadata": {},
   "source": [
    "<a id=\"c2\"></a>\n",
    "### 3.2 Date-wise movement of stocks of a particular company"
   ]
  },
  {
   "cell_type": "code",
   "execution_count": 56,
   "metadata": {},
   "outputs": [],
   "source": [
    "l1=list(companies_dict.values())\n",
    "l2=list(movements)\n",
    "movement_dict=dict(zip(l1,l2))\n",
    "movement_dict=pd.DataFrame(movement_dict)\n",
    "def stock_movement(company):\n",
    "    plt.figure(figsize = (20,8)) \n",
    "\n",
    "    plt.title('Company:'+company,fontsize = 20)\n",
    "\n",
    "    plt.xticks(fontsize = 18)\n",
    "    plt.yticks(fontsize = 20)\n",
    "\n",
    "    plt.xlabel('Date',fontsize = 20)\n",
    "    plt.ylabel('Movement',fontsize = 20)\n",
    "    plt.plot(movement_dict.iloc[0:30][company])\n",
    "\n",
    "    plt.grid(True)\n",
    "    plt.show()"
   ]
  },
  {
   "cell_type": "code",
   "execution_count": 57,
   "metadata": {},
   "outputs": [
    {
     "name": "stdout",
     "output_type": "stream",
     "text": [
      "Please insert the name of the company to check the stock movements:IEX\n"
     ]
    }
   ],
   "source": [
    "comp=input('Please insert the name of the company to check the stock movements:')\n"
   ]
  },
  {
   "cell_type": "code",
   "execution_count": 58,
   "metadata": {},
   "outputs": [
    {
     "data": {
      "image/png": "[encoded data removed]",
      "text/plain": [
       "<Figure size 1440x576 with 1 Axes>"
      ]
     },
     "metadata": {
      "needs_background": "light"
     },
     "output_type": "display_data"
    }
   ],
   "source": [
    "stock_movement(comp)"
   ]
  },
  {
   "cell_type": "markdown",
   "metadata": {},
   "source": [
    "**Interpretation:** Movement of comapany IEX for 1st 30 days."
   ]
  },
  {
   "cell_type": "markdown",
   "metadata": {},
   "source": [
    "<a id=\"c3\"></a>\n",
    "### 3.3 Volume vs Date for a particular company"
   ]
  },
  {
   "cell_type": "code",
   "execution_count": 60,
   "metadata": {},
   "outputs": [],
   "source": [
    "def vol_date(company):\n",
    "    plt.figure(figsize = (20,10)) \n",
    "\n",
    "    plt.title('Company:'+company,fontsize = 20)\n",
    "\n",
    "    plt.xticks(fontsize = 18)\n",
    "    plt.yticks(fontsize = 20)\n",
    "\n",
    "    plt.xlabel('Date',fontsize = 20)\n",
    "    plt.ylabel('Volume',fontsize = 20)\n",
    "    plt.plot(df['Volume'][company],label = 'Open')\n",
    "\n",
    "    plt.grid(True)\n",
    "    plt.show()"
   ]
  },
  {
   "cell_type": "code",
   "execution_count": 61,
   "metadata": {},
   "outputs": [
    {
     "name": "stdout",
     "output_type": "stream",
     "text": [
      "Please enter the name of the company to check the volumes:IDEA.BO\n"
     ]
    }
   ],
   "source": [
    "comp=input('Please enter the name of the company to check the volumes:')"
   ]
  },
  {
   "cell_type": "code",
   "execution_count": 62,
   "metadata": {},
   "outputs": [
    {
     "data": {
      "image/png": "[encoded data removed]",
      "text/plain": [
       "<Figure size 1440x720 with 1 Axes>"
      ]
     },
     "metadata": {
      "needs_background": "light"
     },
     "output_type": "display_data"
    }
   ],
   "source": [
    "vol_date(comp)"
   ]
  },
  {
   "cell_type": "markdown",
   "metadata": {},
   "source": [
    "**Interpretation:** No of shares trading for IDEA.BO is max on 2020-09. "
   ]
  },
  {
   "cell_type": "markdown",
   "metadata": {},
   "source": [
    "<a id=\"c4\"></a>\n",
    "### 3.4 Comparison between movements of any four companies"
   ]
  },
  {
   "cell_type": "code",
   "execution_count": 64,
   "metadata": {},
   "outputs": [],
   "source": [
    "def compare_mov(*args):\n",
    "    l=len(args)\n",
    "    i=0\n",
    "    if l<5:\n",
    "        while(i<l):\n",
    "            plt.figure(figsize = (20,10)) \n",
    "            plt.subplot(2,2,i+1) \n",
    "            plt.title('Company:'+args[i],fontsize = 20)\n",
    "            plt.xticks(fontsize = 10)\n",
    "            plt.yticks(fontsize = 20)\n",
    "            plt.xlabel('Date',fontsize = 15)\n",
    "            plt.ylabel('Movement',fontsize = 15)\n",
    "            #plt.plot(df['Open'][args[i]])\n",
    "            plt.plot(movement_dict.iloc[0:30][args[i]])\n",
    "            plt.grid(True)\n",
    "            i+=1 \n",
    "    else:\n",
    "        print('Please enter a number less than or equal to 4 to comapare')"
   ]
  },
  {
   "cell_type": "code",
   "execution_count": 65,
   "metadata": {},
   "outputs": [
    {
     "name": "stdout",
     "output_type": "stream",
     "text": [
      "Enter the name of the first company:HBESD.BO\n",
      "Enter the name of the second company:IEX\n",
      "Enter the name of the third company:JKCEMENT.BO\n",
      "Enter the name of the fourth company:ACC.BO\n"
     ]
    }
   ],
   "source": [
    "comp1=input('Enter the name of the first company:')\n",
    "comp2=input('Enter the name of the second company:')\n",
    "comp3=input('Enter the name of the third company:')\n",
    "comp4=input('Enter the name of the fourth company:')"
   ]
  },
  {
   "cell_type": "code",
   "execution_count": 66,
   "metadata": {},
   "outputs": [
    {
     "data": {
      "image/png": "[encoded data removed]",
      "text/plain": [
       "<Figure size 1440x720 with 1 Axes>"
      ]
     },
     "metadata": {
      "needs_background": "light"
     },
     "output_type": "display_data"
    },
    {
     "data": {
      "image/png": "[encoded data removed]",
      "text/plain": [
       "<Figure size 1440x720 with 1 Axes>"
      ]
     },
     "metadata": {
      "needs_background": "light"
     },
     "output_type": "display_data"
    },
    {
     "data": {
      "image/png": "[encoded data removed]",
      "text/plain": [
       "<Figure size 1440x720 with 1 Axes>"
      ]
     },
     "metadata": {
      "needs_background": "light"
     },
     "output_type": "display_data"
    },
    {
     "data": {
      "image/png": "[encoded data removed]",
      "text/plain": [
       "<Figure size 1440x720 with 1 Axes>"
      ]
     },
     "metadata": {
      "needs_background": "light"
     },
     "output_type": "display_data"
    }
   ],
   "source": [
    "compare_mov(comp1,comp2,comp3,comp4)"
   ]
  },
  {
   "cell_type": "markdown",
   "metadata": {},
   "source": [
    "**Interpretation:** 1st two companies i.e HBESD.BO , IEX shows common trend in movement\n",
    "and last 2 companies i.e JKCEMENT.BO , ACC.BO  shows common trend in movement."
   ]
  },
  {
   "cell_type": "markdown",
   "metadata": {},
   "source": [
    "<a id=\"cluster\"></a>\n",
    "# 4. Cluster Analysis"
   ]
  },
  {
   "cell_type": "markdown",
   "metadata": {},
   "source": [
    "<a id=\"cl1\"></a>\n",
    "### 4.1 Clustering based on daily growth basis i.e movement"
   ]
  },
  {
   "cell_type": "code",
   "execution_count": 67,
   "metadata": {},
   "outputs": [],
   "source": [
    "stock_open = np.array(df['Open']).T \n",
    "stock_close = np.array(df['Close']).T \n",
    "movements = stock_close - stock_open"
   ]
  },
  {
   "cell_type": "code",
   "execution_count": 68,
   "metadata": {},
   "outputs": [
    {
     "data": {
      "text/plain": [
       "(54, 316)"
      ]
     },
     "execution_count": 68,
     "metadata": {},
     "output_type": "execute_result"
    }
   ],
   "source": [
    "movements.shape"
   ]
  },
  {
   "cell_type": "code",
   "execution_count": 69,
   "metadata": {},
   "outputs": [],
   "source": [
    "sum_of_movement = np.sum(movements,axis=1)\n",
    "net_change=sum_of_movement\n"
   ]
  },
  {
   "cell_type": "code",
   "execution_count": 70,
   "metadata": {},
   "outputs": [],
   "source": [
    "stock_high = np.array(df['High']).T \n",
    "stock_low = np.array(df['Low']).T\n",
    "\n",
    "sensitivity=stock_high-stock_low\n",
    "sum_of_sensitivity = np.mean(sensitivity,axis=1)\n",
    "avg_rr=sum_of_sensitivity"
   ]
  },
  {
   "cell_type": "code",
   "execution_count": 71,
   "metadata": {},
   "outputs": [],
   "source": [
    "volume=np.array(df['Volume']).T\n",
    "\n",
    "avg_of_volume=np.mean(volume,axis=1)"
   ]
  },
  {
   "cell_type": "code",
   "execution_count": 72,
   "metadata": {},
   "outputs": [
    {
     "data": {
      "text/plain": [
       "(54, 319)"
      ]
     },
     "execution_count": 72,
     "metadata": {},
     "output_type": "execute_result"
    }
   ],
   "source": [
    "df_main=np.column_stack((movements,net_change,avg_rr,avg_of_volume))\n",
    "df_main1=pd.DataFrame(df_main)\n",
    "df_main1.shape"
   ]
  },
  {
   "cell_type": "code",
   "execution_count": 1547,
   "metadata": {},
   "outputs": [
    {
     "data": {
      "text/html": [
       "<div>\n",
       "<style scoped>\n",
       "    .dataframe tbody tr th:only-of-type {\n",
       "        vertical-align: middle;\n",
       "    }\n",
       "\n",
       "    .dataframe tbody tr th {\n",
       "        vertical-align: top;\n",
       "    }\n",
       "\n",
       "    .dataframe thead th {\n",
       "        text-align: right;\n",
       "    }\n",
       "</style>\n",
       "<table border=\"1\" class=\"dataframe\">\n",
       "  <thead>\n",
       "    <tr style=\"text-align: right;\">\n",
       "      <th></th>\n",
       "      <th>0</th>\n",
       "      <th>1</th>\n",
       "      <th>2</th>\n",
       "      <th>3</th>\n",
       "      <th>4</th>\n",
       "      <th>5</th>\n",
       "      <th>6</th>\n",
       "      <th>7</th>\n",
       "      <th>8</th>\n",
       "      <th>9</th>\n",
       "      <th>...</th>\n",
       "      <th>309</th>\n",
       "      <th>310</th>\n",
       "      <th>311</th>\n",
       "      <th>312</th>\n",
       "      <th>313</th>\n",
       "      <th>314</th>\n",
       "      <th>315</th>\n",
       "      <th>316</th>\n",
       "      <th>317</th>\n",
       "      <th>318</th>\n",
       "    </tr>\n",
       "  </thead>\n",
       "  <tbody>\n",
       "    <tr>\n",
       "      <th>0</th>\n",
       "      <td>1.000000</td>\n",
       "      <td>0.000000</td>\n",
       "      <td>-7.500000</td>\n",
       "      <td>-8.649994</td>\n",
       "      <td>23.550018</td>\n",
       "      <td>-11.149994</td>\n",
       "      <td>-8.649994</td>\n",
       "      <td>12.550018</td>\n",
       "      <td>2.450012</td>\n",
       "      <td>-0.250000</td>\n",
       "      <td>...</td>\n",
       "      <td>12.500000</td>\n",
       "      <td>-0.299988</td>\n",
       "      <td>0.549988</td>\n",
       "      <td>-9.549988</td>\n",
       "      <td>2.800049</td>\n",
       "      <td>0.849976</td>\n",
       "      <td>-11.950012</td>\n",
       "      <td>-502.100189</td>\n",
       "      <td>17.897943</td>\n",
       "      <td>1.282418e+06</td>\n",
       "    </tr>\n",
       "    <tr>\n",
       "      <th>1</th>\n",
       "      <td>0.040000</td>\n",
       "      <td>-0.070000</td>\n",
       "      <td>-0.020000</td>\n",
       "      <td>0.010000</td>\n",
       "      <td>0.000000</td>\n",
       "      <td>0.020000</td>\n",
       "      <td>-0.040000</td>\n",
       "      <td>-0.050000</td>\n",
       "      <td>-0.040000</td>\n",
       "      <td>0.000000</td>\n",
       "      <td>...</td>\n",
       "      <td>0.030000</td>\n",
       "      <td>-0.040000</td>\n",
       "      <td>0.000000</td>\n",
       "      <td>-0.080000</td>\n",
       "      <td>0.000000</td>\n",
       "      <td>0.000000</td>\n",
       "      <td>-0.010000</td>\n",
       "      <td>-1.330000</td>\n",
       "      <td>0.068228</td>\n",
       "      <td>6.142804e+06</td>\n",
       "    </tr>\n",
       "    <tr>\n",
       "      <th>2</th>\n",
       "      <td>0.090000</td>\n",
       "      <td>0.010000</td>\n",
       "      <td>-0.060000</td>\n",
       "      <td>-0.060000</td>\n",
       "      <td>0.560000</td>\n",
       "      <td>-0.260000</td>\n",
       "      <td>-0.210000</td>\n",
       "      <td>0.030000</td>\n",
       "      <td>-0.090000</td>\n",
       "      <td>-0.100000</td>\n",
       "      <td>...</td>\n",
       "      <td>0.150000</td>\n",
       "      <td>-0.020000</td>\n",
       "      <td>0.020000</td>\n",
       "      <td>-0.170000</td>\n",
       "      <td>-0.070000</td>\n",
       "      <td>0.010000</td>\n",
       "      <td>0.059999</td>\n",
       "      <td>-8.679992</td>\n",
       "      <td>0.622880</td>\n",
       "      <td>7.485095e+07</td>\n",
       "    </tr>\n",
       "    <tr>\n",
       "      <th>3</th>\n",
       "      <td>-0.020000</td>\n",
       "      <td>0.009999</td>\n",
       "      <td>-0.150000</td>\n",
       "      <td>0.400000</td>\n",
       "      <td>0.330000</td>\n",
       "      <td>0.080001</td>\n",
       "      <td>-0.370000</td>\n",
       "      <td>0.270000</td>\n",
       "      <td>0.330000</td>\n",
       "      <td>0.120001</td>\n",
       "      <td>...</td>\n",
       "      <td>0.550001</td>\n",
       "      <td>0.450001</td>\n",
       "      <td>0.100000</td>\n",
       "      <td>0.250000</td>\n",
       "      <td>-0.500000</td>\n",
       "      <td>-0.300000</td>\n",
       "      <td>1.150001</td>\n",
       "      <td>-17.639994</td>\n",
       "      <td>0.617089</td>\n",
       "      <td>4.491207e+05</td>\n",
       "    </tr>\n",
       "    <tr>\n",
       "      <th>4</th>\n",
       "      <td>3.649994</td>\n",
       "      <td>10.950012</td>\n",
       "      <td>-7.700012</td>\n",
       "      <td>-3.799988</td>\n",
       "      <td>7.149994</td>\n",
       "      <td>-6.100006</td>\n",
       "      <td>-10.799988</td>\n",
       "      <td>9.799988</td>\n",
       "      <td>5.800018</td>\n",
       "      <td>7.299988</td>\n",
       "      <td>...</td>\n",
       "      <td>15.199951</td>\n",
       "      <td>2.699951</td>\n",
       "      <td>0.099976</td>\n",
       "      <td>-5.250000</td>\n",
       "      <td>5.500000</td>\n",
       "      <td>-6.500000</td>\n",
       "      <td>1.900024</td>\n",
       "      <td>193.700211</td>\n",
       "      <td>38.031804</td>\n",
       "      <td>2.629752e+04</td>\n",
       "    </tr>\n",
       "  </tbody>\n",
       "</table>\n",
       "<p>5 rows × 319 columns</p>\n",
       "</div>"
      ],
      "text/plain": [
       "        0          1         2         3          4          5          6    \\\n",
       "0  1.000000   0.000000 -7.500000 -8.649994  23.550018 -11.149994  -8.649994   \n",
       "1  0.040000  -0.070000 -0.020000  0.010000   0.000000   0.020000  -0.040000   \n",
       "2  0.090000   0.010000 -0.060000 -0.060000   0.560000  -0.260000  -0.210000   \n",
       "3 -0.020000   0.009999 -0.150000  0.400000   0.330000   0.080001  -0.370000   \n",
       "4  3.649994  10.950012 -7.700012 -3.799988   7.149994  -6.100006 -10.799988   \n",
       "\n",
       "         7         8         9    ...        309       310       311  \\\n",
       "0  12.550018  2.450012 -0.250000  ...  12.500000 -0.299988  0.549988   \n",
       "1  -0.050000 -0.040000  0.000000  ...   0.030000 -0.040000  0.000000   \n",
       "2   0.030000 -0.090000 -0.100000  ...   0.150000 -0.020000  0.020000   \n",
       "3   0.270000  0.330000  0.120001  ...   0.550001  0.450001  0.100000   \n",
       "4   9.799988  5.800018  7.299988  ...  15.199951  2.699951  0.099976   \n",
       "\n",
       "        312       313       314        315         316        317  \\\n",
       "0 -9.549988  2.800049  0.849976 -11.950012 -502.100189  17.897943   \n",
       "1 -0.080000  0.000000  0.000000  -0.010000   -1.330000   0.068228   \n",
       "2 -0.170000 -0.070000  0.010000   0.059999   -8.679992   0.622880   \n",
       "3  0.250000 -0.500000 -0.300000   1.150001  -17.639994   0.617089   \n",
       "4 -5.250000  5.500000 -6.500000   1.900024  193.700211  38.031804   \n",
       "\n",
       "            318  \n",
       "0  1.282418e+06  \n",
       "1  6.142804e+06  \n",
       "2  7.485095e+07  \n",
       "3  4.491207e+05  \n",
       "4  2.629752e+04  \n",
       "\n",
       "[5 rows x 319 columns]"
      ]
     },
     "execution_count": 1547,
     "metadata": {},
     "output_type": "execute_result"
    }
   ],
   "source": [
    "df_main1.head()"
   ]
  },
  {
   "cell_type": "code",
   "execution_count": 74,
   "metadata": {},
   "outputs": [
    {
     "data": {
      "text/plain": [
       "(54, 316)"
      ]
     },
     "execution_count": 74,
     "metadata": {},
     "output_type": "execute_result"
    }
   ],
   "source": [
    "df_cl=df_main1.iloc[:,0:df_main1.shape[1]-3]\n",
    "df_cl.shape"
   ]
  },
  {
   "cell_type": "markdown",
   "metadata": {},
   "source": [
    "#from sklearn.preprocessing import StandardScaler\n",
    "from sklearn.preprocessing import StandardScaler\n",
    "normalizer = StandardScaler() # Define a Normalizer\n",
    "norm_movements = normalizer.fit_transform(df_cl) # Fit and transform"
   ]
  },
  {
   "cell_type": "markdown",
   "metadata": {},
   "source": [
    "<a id=\"kmeansval\"></a>\n",
    "### 4.2. K-Means Clustering Validation"
   ]
  },
  {
   "cell_type": "code",
   "execution_count": 80,
   "metadata": {},
   "outputs": [],
   "source": [
    "from sklearn.cluster import KMeans\n",
    "from sklearn.metrics import silhouette_score\n",
    "\n",
    "ssd=[];score=[]\n",
    "for k in range(2,10):\n",
    "    Kmeans=KMeans(n_clusters=k,random_state=6)\n",
    "    Kmeans.fit(norm_movements)\n",
    "    ssd.append(Kmeans.inertia_)\n",
    "    ss=silhouette_score(norm_movements,Kmeans.labels_)\n",
    "    score.append(ss)"
   ]
  },
  {
   "cell_type": "markdown",
   "metadata": {},
   "source": [
    "<a id=\"elbow\"></a>\n",
    "### 4.2.1 Elbow Plot"
   ]
  },
  {
   "cell_type": "code",
   "execution_count": 81,
   "metadata": {},
   "outputs": [
    {
     "data": {
      "image/png": "[encoded data removed]",
      "text/plain": [
       "<Figure size 720x360 with 1 Axes>"
      ]
     },
     "metadata": {
      "needs_background": "light"
     },
     "output_type": "display_data"
    }
   ],
   "source": [
    "# elbow plot\n",
    "plt.rcParams['figure.figsize']=[10,5]\n",
    "plt.plot(range(2,10),ssd,marker='*',color='r')\n",
    "plt.xlabel('No. of cluster')\n",
    "plt.ylabel('SSD')\n",
    "plt.grid(True)\n",
    "plt.show()"
   ]
  },
  {
   "cell_type": "markdown",
   "metadata": {},
   "source": [
    "<a id=\"silhouette\"></a>\n",
    "### 4.2.2 silhouette score for Different Clusters"
   ]
  },
  {
   "cell_type": "code",
   "execution_count": 82,
   "metadata": {},
   "outputs": [
    {
     "data": {
      "image/png": "[encoded data removed]",
      "text/plain": [
       "<Figure size 720x360 with 1 Axes>"
      ]
     },
     "metadata": {
      "needs_background": "light"
     },
     "output_type": "display_data"
    }
   ],
   "source": [
    "# avg silhouette score\n",
    "plt.rcParams['figure.figsize']=[10,5]\n",
    "plt.plot(range(2,10),score,marker='*',color='r')\n",
    "plt.xlabel('No. of cluster')\n",
    "plt.ylabel('Avg. silhouette score')\n",
    "plt.grid(True)\n",
    "plt.show()"
   ]
  },
  {
   "cell_type": "markdown",
   "metadata": {},
   "source": [
    "**Interpretation:** From above elbow plot and silhouette score plot we observe that elbow is occuring at cluster no 3 and max silhouette score is comming at 2 followed by 3. So the best no cluster from above analysis is 3."
   ]
  },
  {
   "cell_type": "markdown",
   "metadata": {},
   "source": [
    "<a id=\"kmeans\"></a>\n",
    "### 4.3 KMeans Clustering with 3 Clusters"
   ]
  },
  {
   "cell_type": "code",
   "execution_count": 83,
   "metadata": {},
   "outputs": [],
   "source": [
    "# Define a normalizer\n",
    "normalizer = Normalizer()\n",
    "# Create Kmeans model\n",
    "kmeans = KMeans(n_clusters = 3,max_iter = 1000,random_state=6)\n",
    "# Make a pipeline chaining normalizer and kmeans\n",
    "pipeline = make_pipeline(normalizer,kmeans)\n",
    "# Fit pipeline to daily stock movements\n",
    "pipeline.fit(df_cl)\n",
    "labels = pipeline.predict(df_cl)"
   ]
  },
  {
   "cell_type": "code",
   "execution_count": 84,
   "metadata": {},
   "outputs": [
    {
     "data": {
      "text/html": [
       "<div>\n",
       "<style scoped>\n",
       "    .dataframe tbody tr th:only-of-type {\n",
       "        vertical-align: middle;\n",
       "    }\n",
       "\n",
       "    .dataframe tbody tr th {\n",
       "        vertical-align: top;\n",
       "    }\n",
       "\n",
       "    .dataframe thead th {\n",
       "        text-align: right;\n",
       "    }\n",
       "</style>\n",
       "<table border=\"1\" class=\"dataframe\">\n",
       "  <thead>\n",
       "    <tr style=\"text-align: right;\">\n",
       "      <th></th>\n",
       "      <th>316</th>\n",
       "      <th>317</th>\n",
       "      <th>318</th>\n",
       "      <th>labels</th>\n",
       "    </tr>\n",
       "  </thead>\n",
       "  <tbody>\n",
       "    <tr>\n",
       "      <th>0</th>\n",
       "      <td>-502.100189</td>\n",
       "      <td>17.897943</td>\n",
       "      <td>1.282418e+06</td>\n",
       "      <td>2</td>\n",
       "    </tr>\n",
       "    <tr>\n",
       "      <th>1</th>\n",
       "      <td>-1.330000</td>\n",
       "      <td>0.068228</td>\n",
       "      <td>6.142804e+06</td>\n",
       "      <td>1</td>\n",
       "    </tr>\n",
       "    <tr>\n",
       "      <th>2</th>\n",
       "      <td>-8.679992</td>\n",
       "      <td>0.622880</td>\n",
       "      <td>7.485095e+07</td>\n",
       "      <td>1</td>\n",
       "    </tr>\n",
       "    <tr>\n",
       "      <th>3</th>\n",
       "      <td>-17.639994</td>\n",
       "      <td>0.617089</td>\n",
       "      <td>4.491207e+05</td>\n",
       "      <td>1</td>\n",
       "    </tr>\n",
       "    <tr>\n",
       "      <th>4</th>\n",
       "      <td>193.700211</td>\n",
       "      <td>38.031804</td>\n",
       "      <td>2.629752e+04</td>\n",
       "      <td>1</td>\n",
       "    </tr>\n",
       "  </tbody>\n",
       "</table>\n",
       "</div>"
      ],
      "text/plain": [
       "          316        317           318  labels\n",
       "0 -502.100189  17.897943  1.282418e+06       2\n",
       "1   -1.330000   0.068228  6.142804e+06       1\n",
       "2   -8.679992   0.622880  7.485095e+07       1\n",
       "3  -17.639994   0.617089  4.491207e+05       1\n",
       "4  193.700211  38.031804  2.629752e+04       1"
      ]
     },
     "execution_count": 84,
     "metadata": {},
     "output_type": "execute_result"
    }
   ],
   "source": [
    "df_main2=df_main1.iloc[:,[df_main1.shape[1]-3,df_main1.shape[1]-2,df_main1.shape[1]-1]]\n",
    "df_main2['labels']=labels\n",
    "df_main2.head()"
   ]
  },
  {
   "cell_type": "code",
   "execution_count": 85,
   "metadata": {},
   "outputs": [
    {
     "data": {
      "text/html": [
       "<div>\n",
       "<style scoped>\n",
       "    .dataframe tbody tr th:only-of-type {\n",
       "        vertical-align: middle;\n",
       "    }\n",
       "\n",
       "    .dataframe tbody tr th {\n",
       "        vertical-align: top;\n",
       "    }\n",
       "\n",
       "    .dataframe thead th {\n",
       "        text-align: right;\n",
       "    }\n",
       "</style>\n",
       "<table border=\"1\" class=\"dataframe\">\n",
       "  <thead>\n",
       "    <tr style=\"text-align: right;\">\n",
       "      <th></th>\n",
       "      <th>Net_movement</th>\n",
       "      <th>Avg_Risk&amp;Return</th>\n",
       "      <th>Avg_volume</th>\n",
       "      <th>labels</th>\n",
       "    </tr>\n",
       "  </thead>\n",
       "  <tbody>\n",
       "    <tr>\n",
       "      <th>0</th>\n",
       "      <td>-502.100189</td>\n",
       "      <td>17.897943</td>\n",
       "      <td>1.282418e+06</td>\n",
       "      <td>2</td>\n",
       "    </tr>\n",
       "    <tr>\n",
       "      <th>1</th>\n",
       "      <td>-1.330000</td>\n",
       "      <td>0.068228</td>\n",
       "      <td>6.142804e+06</td>\n",
       "      <td>1</td>\n",
       "    </tr>\n",
       "    <tr>\n",
       "      <th>2</th>\n",
       "      <td>-8.679992</td>\n",
       "      <td>0.622880</td>\n",
       "      <td>7.485095e+07</td>\n",
       "      <td>1</td>\n",
       "    </tr>\n",
       "    <tr>\n",
       "      <th>3</th>\n",
       "      <td>-17.639994</td>\n",
       "      <td>0.617089</td>\n",
       "      <td>4.491207e+05</td>\n",
       "      <td>1</td>\n",
       "    </tr>\n",
       "    <tr>\n",
       "      <th>4</th>\n",
       "      <td>193.700211</td>\n",
       "      <td>38.031804</td>\n",
       "      <td>2.629752e+04</td>\n",
       "      <td>1</td>\n",
       "    </tr>\n",
       "  </tbody>\n",
       "</table>\n",
       "</div>"
      ],
      "text/plain": [
       "   Net_movement  Avg_Risk&Return    Avg_volume  labels\n",
       "0   -502.100189        17.897943  1.282418e+06       2\n",
       "1     -1.330000         0.068228  6.142804e+06       1\n",
       "2     -8.679992         0.622880  7.485095e+07       1\n",
       "3    -17.639994         0.617089  4.491207e+05       1\n",
       "4    193.700211        38.031804  2.629752e+04       1"
      ]
     },
     "execution_count": 85,
     "metadata": {},
     "output_type": "execute_result"
    }
   ],
   "source": [
    "mydict1={df_main1.shape[1]-3:'Net_movement',df_main1.shape[1]-2:'Avg_Risk&Return',df_main1.shape[1]-1:'Avg_volume'}\n",
    "df_main2.rename(columns=mydict1,inplace=True)\n",
    "df_main2.head()"
   ]
  },
  {
   "cell_type": "code",
   "execution_count": 86,
   "metadata": {},
   "outputs": [],
   "source": [
    "comp_list=df['High'].columns"
   ]
  },
  {
   "cell_type": "code",
   "execution_count": 87,
   "metadata": {},
   "outputs": [
    {
     "data": {
      "text/html": [
       "<div>\n",
       "<style scoped>\n",
       "    .dataframe tbody tr th:only-of-type {\n",
       "        vertical-align: middle;\n",
       "    }\n",
       "\n",
       "    .dataframe tbody tr th {\n",
       "        vertical-align: top;\n",
       "    }\n",
       "\n",
       "    .dataframe thead th {\n",
       "        text-align: right;\n",
       "    }\n",
       "</style>\n",
       "<table border=\"1\" class=\"dataframe\">\n",
       "  <thead>\n",
       "    <tr style=\"text-align: right;\">\n",
       "      <th></th>\n",
       "      <th>Net_movement</th>\n",
       "      <th>Avg_Risk&amp;Return</th>\n",
       "      <th>Avg_volume</th>\n",
       "      <th>labels</th>\n",
       "      <th>companies</th>\n",
       "    </tr>\n",
       "  </thead>\n",
       "  <tbody>\n",
       "    <tr>\n",
       "      <th>22</th>\n",
       "      <td>349.950104</td>\n",
       "      <td>10.322785</td>\n",
       "      <td>987.765823</td>\n",
       "      <td>0</td>\n",
       "      <td>TCIDEVELOP.BO</td>\n",
       "    </tr>\n",
       "    <tr>\n",
       "      <th>4</th>\n",
       "      <td>193.700211</td>\n",
       "      <td>38.031804</td>\n",
       "      <td>26297.518987</td>\n",
       "      <td>1</td>\n",
       "      <td>TATACOMM.BO</td>\n",
       "    </tr>\n",
       "    <tr>\n",
       "      <th>25</th>\n",
       "      <td>148.199768</td>\n",
       "      <td>20.723577</td>\n",
       "      <td>69023.018987</td>\n",
       "      <td>2</td>\n",
       "      <td>ADANITRANS.BO</td>\n",
       "    </tr>\n",
       "    <tr>\n",
       "      <th>18</th>\n",
       "      <td>38.420004</td>\n",
       "      <td>0.498576</td>\n",
       "      <td>3172.952532</td>\n",
       "      <td>0</td>\n",
       "      <td>HBESD.BO</td>\n",
       "    </tr>\n",
       "    <tr>\n",
       "      <th>28</th>\n",
       "      <td>27.509895</td>\n",
       "      <td>4.164905</td>\n",
       "      <td>475575.316456</td>\n",
       "      <td>0</td>\n",
       "      <td>IEX</td>\n",
       "    </tr>\n",
       "  </tbody>\n",
       "</table>\n",
       "</div>"
      ],
      "text/plain": [
       "    Net_movement  Avg_Risk&Return     Avg_volume  labels      companies\n",
       "22    349.950104        10.322785     987.765823       0  TCIDEVELOP.BO\n",
       "4     193.700211        38.031804   26297.518987       1    TATACOMM.BO\n",
       "25    148.199768        20.723577   69023.018987       2  ADANITRANS.BO\n",
       "18     38.420004         0.498576    3172.952532       0       HBESD.BO\n",
       "28     27.509895         4.164905  475575.316456       0            IEX"
      ]
     },
     "execution_count": 87,
     "metadata": {},
     "output_type": "execute_result"
    }
   ],
   "source": [
    "df_main2['companies']=comp_list\n",
    "df_main2.sort_values('Net_movement',ascending=False).head()"
   ]
  },
  {
   "cell_type": "code",
   "execution_count": 88,
   "metadata": {},
   "outputs": [
    {
     "data": {
      "text/plain": [
       "(54, 5)"
      ]
     },
     "execution_count": 88,
     "metadata": {},
     "output_type": "execute_result"
    }
   ],
   "source": [
    "df_main2.shape"
   ]
  },
  {
   "cell_type": "code",
   "execution_count": 89,
   "metadata": {},
   "outputs": [
    {
     "data": {
      "text/plain": [
       "2    24\n",
       "1    18\n",
       "0    12\n",
       "Name: labels, dtype: int64"
      ]
     },
     "execution_count": 89,
     "metadata": {},
     "output_type": "execute_result"
    }
   ],
   "source": [
    "df_main2['labels'].value_counts()"
   ]
  },
  {
   "cell_type": "markdown",
   "metadata": {},
   "source": [
    "<a id=\"cp\"></a>\n",
    "### 5. Clusters profiling"
   ]
  },
  {
   "cell_type": "code",
   "execution_count": 90,
   "metadata": {},
   "outputs": [
    {
     "data": {
      "text/html": [
       "<div>\n",
       "<style scoped>\n",
       "    .dataframe tbody tr th:only-of-type {\n",
       "        vertical-align: middle;\n",
       "    }\n",
       "\n",
       "    .dataframe tbody tr th {\n",
       "        vertical-align: top;\n",
       "    }\n",
       "\n",
       "    .dataframe thead th {\n",
       "        text-align: right;\n",
       "    }\n",
       "</style>\n",
       "<table border=\"1\" class=\"dataframe\">\n",
       "  <thead>\n",
       "    <tr style=\"text-align: right;\">\n",
       "      <th></th>\n",
       "      <th>Net_movement</th>\n",
       "      <th>Avg_Risk&amp;Return</th>\n",
       "      <th>Avg_volume</th>\n",
       "    </tr>\n",
       "    <tr>\n",
       "      <th>labels</th>\n",
       "      <th></th>\n",
       "      <th></th>\n",
       "      <th></th>\n",
       "    </tr>\n",
       "  </thead>\n",
       "  <tbody>\n",
       "    <tr>\n",
       "      <th>0</th>\n",
       "      <td>28.442501</td>\n",
       "      <td>1.413307</td>\n",
       "      <td>7.950636e+04</td>\n",
       "    </tr>\n",
       "    <tr>\n",
       "      <th>1</th>\n",
       "      <td>-100.062211</td>\n",
       "      <td>5.171299</td>\n",
       "      <td>6.069685e+06</td>\n",
       "    </tr>\n",
       "    <tr>\n",
       "      <th>2</th>\n",
       "      <td>-277.362947</td>\n",
       "      <td>17.911026</td>\n",
       "      <td>2.306857e+06</td>\n",
       "    </tr>\n",
       "  </tbody>\n",
       "</table>\n",
       "</div>"
      ],
      "text/plain": [
       "        Net_movement  Avg_Risk&Return    Avg_volume\n",
       "labels                                             \n",
       "0          28.442501         1.413307  7.950636e+04\n",
       "1        -100.062211         5.171299  6.069685e+06\n",
       "2        -277.362947        17.911026  2.306857e+06"
      ]
     },
     "execution_count": 90,
     "metadata": {},
     "output_type": "execute_result"
    }
   ],
   "source": [
    "df_main2.groupby('labels').agg('mean')"
   ]
  },
  {
   "cell_type": "markdown",
   "metadata": {},
   "source": [
    "**Interpretation:**<br> **cluster 0 -->** is best among all based on net change on any particular day also avg volume of share trading is comparable to max.<br>**cluster 1 -->** is best among all based on popularity and no of share trading on a particular day.<br>**cluster 2 -->** is most volatile among all the cluster based on risk and return but companies in this cluster is having very bad net_movement."
   ]
  },
  {
   "cell_type": "code",
   "execution_count": null,
   "metadata": {},
   "outputs": [],
   "source": [
    "df3=df_main2.copy()"
   ]
  },
  {
   "cell_type": "markdown",
   "metadata": {},
   "source": [
    "<a id=\"cp2\"></a>\n",
    "### 5.1 Cluster-0"
   ]
  },
  {
   "cell_type": "code",
   "execution_count": 92,
   "metadata": {},
   "outputs": [
    {
     "data": {
      "text/html": [
       "<div>\n",
       "<style scoped>\n",
       "    .dataframe tbody tr th:only-of-type {\n",
       "        vertical-align: middle;\n",
       "    }\n",
       "\n",
       "    .dataframe tbody tr th {\n",
       "        vertical-align: top;\n",
       "    }\n",
       "\n",
       "    .dataframe thead th {\n",
       "        text-align: right;\n",
       "    }\n",
       "</style>\n",
       "<table border=\"1\" class=\"dataframe\">\n",
       "  <thead>\n",
       "    <tr style=\"text-align: right;\">\n",
       "      <th></th>\n",
       "      <th>Net_movement</th>\n",
       "      <th>Avg_Risk&amp;Return</th>\n",
       "      <th>Avg_volume</th>\n",
       "      <th>labels</th>\n",
       "      <th>companies</th>\n",
       "    </tr>\n",
       "  </thead>\n",
       "  <tbody>\n",
       "    <tr>\n",
       "      <th>22</th>\n",
       "      <td>349.950104</td>\n",
       "      <td>10.322785</td>\n",
       "      <td>987.765823</td>\n",
       "      <td>0</td>\n",
       "      <td>TCIDEVELOP.BO</td>\n",
       "    </tr>\n",
       "    <tr>\n",
       "      <th>18</th>\n",
       "      <td>38.420004</td>\n",
       "      <td>0.498576</td>\n",
       "      <td>3172.952532</td>\n",
       "      <td>0</td>\n",
       "      <td>HBESD.BO</td>\n",
       "    </tr>\n",
       "    <tr>\n",
       "      <th>28</th>\n",
       "      <td>27.509895</td>\n",
       "      <td>4.164905</td>\n",
       "      <td>475575.316456</td>\n",
       "      <td>0</td>\n",
       "      <td>IEX</td>\n",
       "    </tr>\n",
       "    <tr>\n",
       "      <th>23</th>\n",
       "      <td>4.030000</td>\n",
       "      <td>0.081234</td>\n",
       "      <td>1948.155063</td>\n",
       "      <td>0</td>\n",
       "      <td>VASINFRA.BO</td>\n",
       "    </tr>\n",
       "    <tr>\n",
       "      <th>27</th>\n",
       "      <td>2.349999</td>\n",
       "      <td>0.013892</td>\n",
       "      <td>364.844937</td>\n",
       "      <td>0</td>\n",
       "      <td>GITARENEW.BO</td>\n",
       "    </tr>\n",
       "    <tr>\n",
       "      <th>16</th>\n",
       "      <td>-0.250000</td>\n",
       "      <td>0.035190</td>\n",
       "      <td>1078.110759</td>\n",
       "      <td>0</td>\n",
       "      <td>CRANEINFRA.BO</td>\n",
       "    </tr>\n",
       "    <tr>\n",
       "      <th>19</th>\n",
       "      <td>-1.500000</td>\n",
       "      <td>0.016804</td>\n",
       "      <td>6727.490506</td>\n",
       "      <td>0</td>\n",
       "      <td>KCLINFRA.BO</td>\n",
       "    </tr>\n",
       "    <tr>\n",
       "      <th>42</th>\n",
       "      <td>-2.300000</td>\n",
       "      <td>0.071994</td>\n",
       "      <td>56522.588608</td>\n",
       "      <td>0</td>\n",
       "      <td>BURNPUR.NS</td>\n",
       "    </tr>\n",
       "    <tr>\n",
       "      <th>29</th>\n",
       "      <td>-4.409998</td>\n",
       "      <td>0.208829</td>\n",
       "      <td>17893.632911</td>\n",
       "      <td>0</td>\n",
       "      <td>INDOWIND.BO</td>\n",
       "    </tr>\n",
       "    <tr>\n",
       "      <th>17</th>\n",
       "      <td>-6.180000</td>\n",
       "      <td>0.227595</td>\n",
       "      <td>295824.683544</td>\n",
       "      <td>0</td>\n",
       "      <td>ETTX</td>\n",
       "    </tr>\n",
       "    <tr>\n",
       "      <th>10</th>\n",
       "      <td>-8.340001</td>\n",
       "      <td>0.318544</td>\n",
       "      <td>86371.506329</td>\n",
       "      <td>0</td>\n",
       "      <td>AKSHOPTFBR.BO</td>\n",
       "    </tr>\n",
       "    <tr>\n",
       "      <th>21</th>\n",
       "      <td>-57.969993</td>\n",
       "      <td>0.999335</td>\n",
       "      <td>7609.262658</td>\n",
       "      <td>0</td>\n",
       "      <td>SUPREME.BO</td>\n",
       "    </tr>\n",
       "  </tbody>\n",
       "</table>\n",
       "</div>"
      ],
      "text/plain": [
       "    Net_movement  Avg_Risk&Return     Avg_volume  labels      companies\n",
       "22    349.950104        10.322785     987.765823       0  TCIDEVELOP.BO\n",
       "18     38.420004         0.498576    3172.952532       0       HBESD.BO\n",
       "28     27.509895         4.164905  475575.316456       0            IEX\n",
       "23      4.030000         0.081234    1948.155063       0    VASINFRA.BO\n",
       "27      2.349999         0.013892     364.844937       0   GITARENEW.BO\n",
       "16     -0.250000         0.035190    1078.110759       0  CRANEINFRA.BO\n",
       "19     -1.500000         0.016804    6727.490506       0    KCLINFRA.BO\n",
       "42     -2.300000         0.071994   56522.588608       0     BURNPUR.NS\n",
       "29     -4.409998         0.208829   17893.632911       0    INDOWIND.BO\n",
       "17     -6.180000         0.227595  295824.683544       0           ETTX\n",
       "10     -8.340001         0.318544   86371.506329       0  AKSHOPTFBR.BO\n",
       "21    -57.969993         0.999335    7609.262658       0     SUPREME.BO"
      ]
     },
     "execution_count": 92,
     "metadata": {},
     "output_type": "execute_result"
    }
   ],
   "source": [
    "df3[df3['labels']==0].sort_values(['Net_movement','Avg_Risk&Return'],ascending=False)"
   ]
  },
  {
   "cell_type": "markdown",
   "metadata": {},
   "source": [
    "**Interpretation:**<br> **cluster 0-->** for user who wants to get  return with low risk and return in less time."
   ]
  },
  {
   "cell_type": "markdown",
   "metadata": {},
   "source": [
    "<a id=\"cp3\"></a>\n",
    "### 5.2 Cluster-1"
   ]
  },
  {
   "cell_type": "code",
   "execution_count": 93,
   "metadata": {},
   "outputs": [
    {
     "data": {
      "text/html": [
       "<div>\n",
       "<style scoped>\n",
       "    .dataframe tbody tr th:only-of-type {\n",
       "        vertical-align: middle;\n",
       "    }\n",
       "\n",
       "    .dataframe tbody tr th {\n",
       "        vertical-align: top;\n",
       "    }\n",
       "\n",
       "    .dataframe thead th {\n",
       "        text-align: right;\n",
       "    }\n",
       "</style>\n",
       "<table border=\"1\" class=\"dataframe\">\n",
       "  <thead>\n",
       "    <tr style=\"text-align: right;\">\n",
       "      <th></th>\n",
       "      <th>Net_movement</th>\n",
       "      <th>Avg_Risk&amp;Return</th>\n",
       "      <th>Avg_volume</th>\n",
       "      <th>labels</th>\n",
       "      <th>companies</th>\n",
       "    </tr>\n",
       "  </thead>\n",
       "  <tbody>\n",
       "    <tr>\n",
       "      <th>2</th>\n",
       "      <td>-8.679992</td>\n",
       "      <td>0.622880</td>\n",
       "      <td>7.485095e+07</td>\n",
       "      <td>1</td>\n",
       "      <td>IDEA.BO</td>\n",
       "    </tr>\n",
       "    <tr>\n",
       "      <th>38</th>\n",
       "      <td>-4.700001</td>\n",
       "      <td>0.148892</td>\n",
       "      <td>1.930159e+07</td>\n",
       "      <td>1</td>\n",
       "      <td>RPOWER.NS</td>\n",
       "    </tr>\n",
       "    <tr>\n",
       "      <th>1</th>\n",
       "      <td>-1.330000</td>\n",
       "      <td>0.068228</td>\n",
       "      <td>6.142804e+06</td>\n",
       "      <td>1</td>\n",
       "      <td>RCOM.BO</td>\n",
       "    </tr>\n",
       "    <tr>\n",
       "      <th>30</th>\n",
       "      <td>-11.349960</td>\n",
       "      <td>3.020570</td>\n",
       "      <td>3.324632e+06</td>\n",
       "      <td>1</td>\n",
       "      <td>JSWENERGY.NS</td>\n",
       "    </tr>\n",
       "    <tr>\n",
       "      <th>35</th>\n",
       "      <td>-6.049999</td>\n",
       "      <td>0.103956</td>\n",
       "      <td>1.797541e+06</td>\n",
       "      <td>1</td>\n",
       "      <td>GREENPOWER.NS</td>\n",
       "    </tr>\n",
       "    <tr>\n",
       "      <th>36</th>\n",
       "      <td>-13.199999</td>\n",
       "      <td>0.802532</td>\n",
       "      <td>1.214259e+06</td>\n",
       "      <td>1</td>\n",
       "      <td>PFS.NS</td>\n",
       "    </tr>\n",
       "    <tr>\n",
       "      <th>12</th>\n",
       "      <td>-6.720003</td>\n",
       "      <td>0.324905</td>\n",
       "      <td>1.028771e+06</td>\n",
       "      <td>1</td>\n",
       "      <td>TTML.BO</td>\n",
       "    </tr>\n",
       "    <tr>\n",
       "      <th>9</th>\n",
       "      <td>-25.219984</td>\n",
       "      <td>1.039715</td>\n",
       "      <td>8.735883e+05</td>\n",
       "      <td>1</td>\n",
       "      <td>HFCL.BO</td>\n",
       "    </tr>\n",
       "    <tr>\n",
       "      <th>3</th>\n",
       "      <td>-17.639994</td>\n",
       "      <td>0.617089</td>\n",
       "      <td>4.491207e+05</td>\n",
       "      <td>1</td>\n",
       "      <td>MTNL.BO</td>\n",
       "    </tr>\n",
       "    <tr>\n",
       "      <th>7</th>\n",
       "      <td>-189.749947</td>\n",
       "      <td>4.763133</td>\n",
       "      <td>1.461388e+05</td>\n",
       "      <td>1</td>\n",
       "      <td>ITI.BO</td>\n",
       "    </tr>\n",
       "    <tr>\n",
       "      <th>8</th>\n",
       "      <td>-114.779993</td>\n",
       "      <td>2.706298</td>\n",
       "      <td>6.919478e+04</td>\n",
       "      <td>1</td>\n",
       "      <td>ONMOBILE.BO</td>\n",
       "    </tr>\n",
       "    <tr>\n",
       "      <th>4</th>\n",
       "      <td>193.700211</td>\n",
       "      <td>38.031804</td>\n",
       "      <td>2.629752e+04</td>\n",
       "      <td>1</td>\n",
       "      <td>TATACOMM.BO</td>\n",
       "    </tr>\n",
       "    <tr>\n",
       "      <th>6</th>\n",
       "      <td>-37.150009</td>\n",
       "      <td>2.015981</td>\n",
       "      <td>8.312411e+03</td>\n",
       "      <td>1</td>\n",
       "      <td>CMI.BO</td>\n",
       "    </tr>\n",
       "    <tr>\n",
       "      <th>13</th>\n",
       "      <td>2.699997</td>\n",
       "      <td>2.960285</td>\n",
       "      <td>5.896930e+03</td>\n",
       "      <td>1</td>\n",
       "      <td>AGIIL.BO</td>\n",
       "    </tr>\n",
       "    <tr>\n",
       "      <th>20</th>\n",
       "      <td>-40.350011</td>\n",
       "      <td>1.536709</td>\n",
       "      <td>5.346269e+03</td>\n",
       "      <td>1</td>\n",
       "      <td>MAINFRA.BO</td>\n",
       "    </tr>\n",
       "    <tr>\n",
       "      <th>31</th>\n",
       "      <td>-25.399988</td>\n",
       "      <td>0.807437</td>\n",
       "      <td>4.884706e+03</td>\n",
       "      <td>1</td>\n",
       "      <td>KARMAENG.NS</td>\n",
       "    </tr>\n",
       "    <tr>\n",
       "      <th>14</th>\n",
       "      <td>-7.399954</td>\n",
       "      <td>1.716297</td>\n",
       "      <td>2.693282e+03</td>\n",
       "      <td>1</td>\n",
       "      <td>BIGBLOC.BO</td>\n",
       "    </tr>\n",
       "    <tr>\n",
       "      <th>5</th>\n",
       "      <td>-1487.800171</td>\n",
       "      <td>31.796679</td>\n",
       "      <td>2.309054e+03</td>\n",
       "      <td>1</td>\n",
       "      <td>VINDHYATEL.BO</td>\n",
       "    </tr>\n",
       "  </tbody>\n",
       "</table>\n",
       "</div>"
      ],
      "text/plain": [
       "    Net_movement  Avg_Risk&Return    Avg_volume  labels      companies\n",
       "2      -8.679992         0.622880  7.485095e+07       1        IDEA.BO\n",
       "38     -4.700001         0.148892  1.930159e+07       1      RPOWER.NS\n",
       "1      -1.330000         0.068228  6.142804e+06       1        RCOM.BO\n",
       "30    -11.349960         3.020570  3.324632e+06       1   JSWENERGY.NS\n",
       "35     -6.049999         0.103956  1.797541e+06       1  GREENPOWER.NS\n",
       "36    -13.199999         0.802532  1.214259e+06       1         PFS.NS\n",
       "12     -6.720003         0.324905  1.028771e+06       1        TTML.BO\n",
       "9     -25.219984         1.039715  8.735883e+05       1        HFCL.BO\n",
       "3     -17.639994         0.617089  4.491207e+05       1        MTNL.BO\n",
       "7    -189.749947         4.763133  1.461388e+05       1         ITI.BO\n",
       "8    -114.779993         2.706298  6.919478e+04       1    ONMOBILE.BO\n",
       "4     193.700211        38.031804  2.629752e+04       1    TATACOMM.BO\n",
       "6     -37.150009         2.015981  8.312411e+03       1         CMI.BO\n",
       "13      2.699997         2.960285  5.896930e+03       1       AGIIL.BO\n",
       "20    -40.350011         1.536709  5.346269e+03       1     MAINFRA.BO\n",
       "31    -25.399988         0.807437  4.884706e+03       1    KARMAENG.NS\n",
       "14     -7.399954         1.716297  2.693282e+03       1     BIGBLOC.BO\n",
       "5   -1487.800171        31.796679  2.309054e+03       1  VINDHYATEL.BO"
      ]
     },
     "execution_count": 93,
     "metadata": {},
     "output_type": "execute_result"
    }
   ],
   "source": [
    "df3[df3['labels']==1].sort_values(['Avg_volume','Net_movement','Avg_Risk&Return'],ascending=False)"
   ]
  },
  {
   "cell_type": "markdown",
   "metadata": {},
   "source": [
    "**Interpretation:**<br> **cluster 1 -->** for user who wants to go with high risk and return (prefer for those who wants to take risk and earn more and investing for short term)"
   ]
  },
  {
   "cell_type": "markdown",
   "metadata": {},
   "source": [
    "<a id=\"cp4\"></a>\n",
    "### 5.3 Cluster-2"
   ]
  },
  {
   "cell_type": "code",
   "execution_count": 94,
   "metadata": {},
   "outputs": [
    {
     "data": {
      "text/html": [
       "<div>\n",
       "<style scoped>\n",
       "    .dataframe tbody tr th:only-of-type {\n",
       "        vertical-align: middle;\n",
       "    }\n",
       "\n",
       "    .dataframe tbody tr th {\n",
       "        vertical-align: top;\n",
       "    }\n",
       "\n",
       "    .dataframe thead th {\n",
       "        text-align: right;\n",
       "    }\n",
       "</style>\n",
       "<table border=\"1\" class=\"dataframe\">\n",
       "  <thead>\n",
       "    <tr style=\"text-align: right;\">\n",
       "      <th></th>\n",
       "      <th>Net_movement</th>\n",
       "      <th>Avg_Risk&amp;Return</th>\n",
       "      <th>Avg_volume</th>\n",
       "      <th>labels</th>\n",
       "      <th>companies</th>\n",
       "    </tr>\n",
       "  </thead>\n",
       "  <tbody>\n",
       "    <tr>\n",
       "      <th>45</th>\n",
       "      <td>-2049.799927</td>\n",
       "      <td>70.563759</td>\n",
       "      <td>8.959981e+03</td>\n",
       "      <td>2</td>\n",
       "      <td>JKCEMENT.BO</td>\n",
       "    </tr>\n",
       "    <tr>\n",
       "      <th>39</th>\n",
       "      <td>-965.451294</td>\n",
       "      <td>47.303955</td>\n",
       "      <td>4.503341e+04</td>\n",
       "      <td>2</td>\n",
       "      <td>ACC.BO</td>\n",
       "    </tr>\n",
       "    <tr>\n",
       "      <th>26</th>\n",
       "      <td>-760.449799</td>\n",
       "      <td>22.557597</td>\n",
       "      <td>2.161677e+04</td>\n",
       "      <td>2</td>\n",
       "      <td>CESC.BO</td>\n",
       "    </tr>\n",
       "    <tr>\n",
       "      <th>53</th>\n",
       "      <td>-612.449707</td>\n",
       "      <td>145.498738</td>\n",
       "      <td>2.649304e+04</td>\n",
       "      <td>2</td>\n",
       "      <td>ULTRACEMCO.BO</td>\n",
       "    </tr>\n",
       "    <tr>\n",
       "      <th>0</th>\n",
       "      <td>-502.100189</td>\n",
       "      <td>17.897943</td>\n",
       "      <td>1.282418e+06</td>\n",
       "      <td>2</td>\n",
       "      <td>BHARTIARTL.BO</td>\n",
       "    </tr>\n",
       "    <tr>\n",
       "      <th>43</th>\n",
       "      <td>-489.650192</td>\n",
       "      <td>14.436235</td>\n",
       "      <td>6.372763e+03</td>\n",
       "      <td>2</td>\n",
       "      <td>DECCANCE.BO</td>\n",
       "    </tr>\n",
       "    <tr>\n",
       "      <th>50</th>\n",
       "      <td>-306.399475</td>\n",
       "      <td>27.305381</td>\n",
       "      <td>2.683774e+04</td>\n",
       "      <td>2</td>\n",
       "      <td>RAMCOCEM.BO</td>\n",
       "    </tr>\n",
       "    <tr>\n",
       "      <th>46</th>\n",
       "      <td>-295.600128</td>\n",
       "      <td>12.475475</td>\n",
       "      <td>2.384530e+04</td>\n",
       "      <td>2</td>\n",
       "      <td>JKLAKSHMI.BO</td>\n",
       "    </tr>\n",
       "    <tr>\n",
       "      <th>44</th>\n",
       "      <td>-204.400101</td>\n",
       "      <td>11.946044</td>\n",
       "      <td>1.018274e+04</td>\n",
       "      <td>2</td>\n",
       "      <td>EVERESTIND.BO</td>\n",
       "    </tr>\n",
       "    <tr>\n",
       "      <th>51</th>\n",
       "      <td>-118.650009</td>\n",
       "      <td>3.710443</td>\n",
       "      <td>2.712309e+04</td>\n",
       "      <td>2</td>\n",
       "      <td>STARCEMENT.BO</td>\n",
       "    </tr>\n",
       "    <tr>\n",
       "      <th>49</th>\n",
       "      <td>-93.199898</td>\n",
       "      <td>3.598734</td>\n",
       "      <td>6.043929e+04</td>\n",
       "      <td>2</td>\n",
       "      <td>ORIENTCEM.BO</td>\n",
       "    </tr>\n",
       "    <tr>\n",
       "      <th>48</th>\n",
       "      <td>-88.049953</td>\n",
       "      <td>5.561234</td>\n",
       "      <td>3.182062e+04</td>\n",
       "      <td>2</td>\n",
       "      <td>NCLIND.BO</td>\n",
       "    </tr>\n",
       "    <tr>\n",
       "      <th>34</th>\n",
       "      <td>-78.449928</td>\n",
       "      <td>3.350000</td>\n",
       "      <td>2.616726e+07</td>\n",
       "      <td>2</td>\n",
       "      <td>NTPC.NS</td>\n",
       "    </tr>\n",
       "    <tr>\n",
       "      <th>33</th>\n",
       "      <td>-51.200016</td>\n",
       "      <td>1.689716</td>\n",
       "      <td>1.133828e+06</td>\n",
       "      <td>2</td>\n",
       "      <td>NLCINDIA.NS</td>\n",
       "    </tr>\n",
       "    <tr>\n",
       "      <th>47</th>\n",
       "      <td>-48.349983</td>\n",
       "      <td>3.448418</td>\n",
       "      <td>4.483124e+05</td>\n",
       "      <td>2</td>\n",
       "      <td>KCP.NS</td>\n",
       "    </tr>\n",
       "    <tr>\n",
       "      <th>24</th>\n",
       "      <td>-43.099985</td>\n",
       "      <td>2.193829</td>\n",
       "      <td>1.402300e+06</td>\n",
       "      <td>2</td>\n",
       "      <td>ADANIPOWER.BO</td>\n",
       "    </tr>\n",
       "    <tr>\n",
       "      <th>52</th>\n",
       "      <td>-37.489985</td>\n",
       "      <td>0.843513</td>\n",
       "      <td>3.418480e+05</td>\n",
       "      <td>2</td>\n",
       "      <td>UDAICEMENT.BO</td>\n",
       "    </tr>\n",
       "    <tr>\n",
       "      <th>40</th>\n",
       "      <td>-30.900040</td>\n",
       "      <td>7.899050</td>\n",
       "      <td>6.169014e+06</td>\n",
       "      <td>2</td>\n",
       "      <td>AMBUJACEM.NS</td>\n",
       "    </tr>\n",
       "    <tr>\n",
       "      <th>32</th>\n",
       "      <td>-22.449995</td>\n",
       "      <td>0.702215</td>\n",
       "      <td>4.879283e+05</td>\n",
       "      <td>2</td>\n",
       "      <td>NHPC.BO</td>\n",
       "    </tr>\n",
       "    <tr>\n",
       "      <th>41</th>\n",
       "      <td>-9.100002</td>\n",
       "      <td>0.207753</td>\n",
       "      <td>2.711577e+05</td>\n",
       "      <td>2</td>\n",
       "      <td>ANDHRACEMT.NS</td>\n",
       "    </tr>\n",
       "    <tr>\n",
       "      <th>11</th>\n",
       "      <td>-0.480000</td>\n",
       "      <td>0.026994</td>\n",
       "      <td>4.586573e+06</td>\n",
       "      <td>2</td>\n",
       "      <td>GTLINFRA.BO</td>\n",
       "    </tr>\n",
       "    <tr>\n",
       "      <th>15</th>\n",
       "      <td>-0.390000</td>\n",
       "      <td>0.040633</td>\n",
       "      <td>3.743030e+04</td>\n",
       "      <td>2</td>\n",
       "      <td>BSELINFRA.BO</td>\n",
       "    </tr>\n",
       "    <tr>\n",
       "      <th>37</th>\n",
       "      <td>3.200104</td>\n",
       "      <td>5.883385</td>\n",
       "      <td>1.267876e+07</td>\n",
       "      <td>2</td>\n",
       "      <td>POWERGRID.NS</td>\n",
       "    </tr>\n",
       "    <tr>\n",
       "      <th>25</th>\n",
       "      <td>148.199768</td>\n",
       "      <td>20.723577</td>\n",
       "      <td>6.902302e+04</td>\n",
       "      <td>2</td>\n",
       "      <td>ADANITRANS.BO</td>\n",
       "    </tr>\n",
       "  </tbody>\n",
       "</table>\n",
       "</div>"
      ],
      "text/plain": [
       "    Net_movement  Avg_Risk&Return    Avg_volume  labels      companies\n",
       "45  -2049.799927        70.563759  8.959981e+03       2    JKCEMENT.BO\n",
       "39   -965.451294        47.303955  4.503341e+04       2         ACC.BO\n",
       "26   -760.449799        22.557597  2.161677e+04       2        CESC.BO\n",
       "53   -612.449707       145.498738  2.649304e+04       2  ULTRACEMCO.BO\n",
       "0    -502.100189        17.897943  1.282418e+06       2  BHARTIARTL.BO\n",
       "43   -489.650192        14.436235  6.372763e+03       2    DECCANCE.BO\n",
       "50   -306.399475        27.305381  2.683774e+04       2    RAMCOCEM.BO\n",
       "46   -295.600128        12.475475  2.384530e+04       2   JKLAKSHMI.BO\n",
       "44   -204.400101        11.946044  1.018274e+04       2  EVERESTIND.BO\n",
       "51   -118.650009         3.710443  2.712309e+04       2  STARCEMENT.BO\n",
       "49    -93.199898         3.598734  6.043929e+04       2   ORIENTCEM.BO\n",
       "48    -88.049953         5.561234  3.182062e+04       2      NCLIND.BO\n",
       "34    -78.449928         3.350000  2.616726e+07       2        NTPC.NS\n",
       "33    -51.200016         1.689716  1.133828e+06       2    NLCINDIA.NS\n",
       "47    -48.349983         3.448418  4.483124e+05       2         KCP.NS\n",
       "24    -43.099985         2.193829  1.402300e+06       2  ADANIPOWER.BO\n",
       "52    -37.489985         0.843513  3.418480e+05       2  UDAICEMENT.BO\n",
       "40    -30.900040         7.899050  6.169014e+06       2   AMBUJACEM.NS\n",
       "32    -22.449995         0.702215  4.879283e+05       2        NHPC.BO\n",
       "41     -9.100002         0.207753  2.711577e+05       2  ANDHRACEMT.NS\n",
       "11     -0.480000         0.026994  4.586573e+06       2    GTLINFRA.BO\n",
       "15     -0.390000         0.040633  3.743030e+04       2   BSELINFRA.BO\n",
       "37      3.200104         5.883385  1.267876e+07       2   POWERGRID.NS\n",
       "25    148.199768        20.723577  6.902302e+04       2  ADANITRANS.BO"
      ]
     },
     "execution_count": 94,
     "metadata": {},
     "output_type": "execute_result"
    }
   ],
   "source": [
    "df3[df3['labels']==2].sort_values(['Net_movement','Avg_Risk&Return'],ascending=True)"
   ]
  },
  {
   "cell_type": "markdown",
   "metadata": {},
   "source": [
    "**Interpretation:**<br> **cluster 2-->** for user who wants to go with large of no of share trading may be due to hold for long time or may be per share price is low."
   ]
  },
  {
   "cell_type": "code",
   "execution_count": 95,
   "metadata": {},
   "outputs": [
    {
     "data": {
      "text/plain": [
       "<AxesSubplot:xlabel='Net_movement', ylabel='Avg_Risk&Return'>"
      ]
     },
     "execution_count": 95,
     "metadata": {},
     "output_type": "execute_result"
    },
    {
     "data": {
      "image/png": "[encoded data removed]",
      "text/plain": [
       "<Figure size 360x216 with 1 Axes>"
      ]
     },
     "metadata": {
      "needs_background": "light"
     },
     "output_type": "display_data"
    }
   ],
   "source": [
    "import seaborn as sns\n",
    "plt.rcParams['figure.figsize']=[5,3]\n",
    "sns.scatterplot(x=df3['Net_movement'],y=df3['Avg_Risk&Return'],hue=df3['labels'],palette='viridis_r')"
   ]
  },
  {
   "cell_type": "markdown",
   "metadata": {},
   "source": [
    "**Interpretation:**<br>"
   ]
  },
  {
   "cell_type": "code",
   "execution_count": null,
   "metadata": {},
   "outputs": [],
   "source": [
    "# cluster 1 for user who wants to go with large of no of share trading may be due to hold for long time or may be per share price is low.\n",
    "# cluster 0 for user who wants to get more return with less risk and return in less time.\n",
    "# cluster 2 for user who wants to go with high risk and return (prefer for those who wants to take risk and earn more\n",
    "# investing for short term)"
   ]
  },
  {
   "cell_type": "markdown",
   "metadata": {},
   "source": [
    "<a id=\"dbscan\"></a>\n",
    "### 6.  DBSCAN (Density-Based Spatial Clustering of Applications with Noise)"
   ]
  },
  {
   "cell_type": "code",
   "execution_count": 1573,
   "metadata": {},
   "outputs": [],
   "source": [
    "from sklearn.preprocessing import StandardScaler\n",
    "ss = StandardScaler()\n",
    "norm_movements = ss.fit_transform(df_cl) "
   ]
  },
  {
   "cell_type": "code",
   "execution_count": 1574,
   "metadata": {},
   "outputs": [],
   "source": [
    "from sklearn.neighbors import NearestNeighbors\n",
    "nn = NearestNeighbors(n_neighbors=4)\n",
    "nn = nn.fit(norm_movements)\n",
    "distances, indices = nn.kneighbors(norm_movements)"
   ]
  },
  {
   "cell_type": "code",
   "execution_count": 1575,
   "metadata": {},
   "outputs": [
    {
     "data": {
      "image/png": "[encoded data removed]",
      "text/plain": [
       "<Figure size 360x216 with 1 Axes>"
      ]
     },
     "metadata": {
      "needs_background": "light"
     },
     "output_type": "display_data"
    }
   ],
   "source": [
    "distances = distances[:,3]\n",
    "distances = np.sort(distances, axis=0)\n",
    "plt.plot(distances)\n",
    "plt.grid(True)\n",
    "plt.show()"
   ]
  },
  {
   "cell_type": "code",
   "execution_count": 1576,
   "metadata": {},
   "outputs": [
    {
     "data": {
      "text/plain": [
       "(54, 316)"
      ]
     },
     "execution_count": 1576,
     "metadata": {},
     "output_type": "execute_result"
    }
   ],
   "source": [
    "norm_movements.shape"
   ]
  },
  {
   "cell_type": "code",
   "execution_count": 1577,
   "metadata": {},
   "outputs": [
    {
     "data": {
      "text/plain": [
       "DBSCAN(eps=18, min_samples=15)"
      ]
     },
     "execution_count": 1577,
     "metadata": {},
     "output_type": "execute_result"
    }
   ],
   "source": [
    "from sklearn.cluster import DBSCAN\n",
    "dbscan2 = DBSCAN(eps=18, min_samples=15)\n",
    "dbscan2.fit(norm_movements)"
   ]
  },
  {
   "cell_type": "raw",
   "metadata": {},
   "source": [
    "lbl = pd.Series(dbscan2.labels_)\n",
    "lbl.loc[lbl>=0]=0\n",
    "lbl.value_counts()"
   ]
  },
  {
   "cell_type": "code",
   "execution_count": 1578,
   "metadata": {},
   "outputs": [
    {
     "data": {
      "text/plain": [
       "(54, 319)"
      ]
     },
     "execution_count": 1578,
     "metadata": {},
     "output_type": "execute_result"
    }
   ],
   "source": [
    "df_main_db=np.column_stack((movements,net_change,avg_rr,avg_of_volume))\n",
    "df_main1_db=pd.DataFrame(df_main_db)\n",
    "df_main1_db.shape"
   ]
  },
  {
   "cell_type": "code",
   "execution_count": 1579,
   "metadata": {},
   "outputs": [
    {
     "data": {
      "text/html": [
       "<div>\n",
       "<style scoped>\n",
       "    .dataframe tbody tr th:only-of-type {\n",
       "        vertical-align: middle;\n",
       "    }\n",
       "\n",
       "    .dataframe tbody tr th {\n",
       "        vertical-align: top;\n",
       "    }\n",
       "\n",
       "    .dataframe thead th {\n",
       "        text-align: right;\n",
       "    }\n",
       "</style>\n",
       "<table border=\"1\" class=\"dataframe\">\n",
       "  <thead>\n",
       "    <tr style=\"text-align: right;\">\n",
       "      <th></th>\n",
       "      <th>316</th>\n",
       "      <th>317</th>\n",
       "      <th>318</th>\n",
       "      <th>labels</th>\n",
       "    </tr>\n",
       "  </thead>\n",
       "  <tbody>\n",
       "    <tr>\n",
       "      <th>0</th>\n",
       "      <td>-502.100189</td>\n",
       "      <td>17.897943</td>\n",
       "      <td>1.282418e+06</td>\n",
       "      <td>-1</td>\n",
       "    </tr>\n",
       "    <tr>\n",
       "      <th>1</th>\n",
       "      <td>-1.330000</td>\n",
       "      <td>0.068228</td>\n",
       "      <td>6.142804e+06</td>\n",
       "      <td>0</td>\n",
       "    </tr>\n",
       "    <tr>\n",
       "      <th>2</th>\n",
       "      <td>-8.679992</td>\n",
       "      <td>0.622880</td>\n",
       "      <td>7.485095e+07</td>\n",
       "      <td>0</td>\n",
       "    </tr>\n",
       "    <tr>\n",
       "      <th>3</th>\n",
       "      <td>-17.639994</td>\n",
       "      <td>0.617089</td>\n",
       "      <td>4.491207e+05</td>\n",
       "      <td>0</td>\n",
       "    </tr>\n",
       "    <tr>\n",
       "      <th>4</th>\n",
       "      <td>193.700211</td>\n",
       "      <td>38.031804</td>\n",
       "      <td>2.629752e+04</td>\n",
       "      <td>-1</td>\n",
       "    </tr>\n",
       "  </tbody>\n",
       "</table>\n",
       "</div>"
      ],
      "text/plain": [
       "          316        317           318  labels\n",
       "0 -502.100189  17.897943  1.282418e+06      -1\n",
       "1   -1.330000   0.068228  6.142804e+06       0\n",
       "2   -8.679992   0.622880  7.485095e+07       0\n",
       "3  -17.639994   0.617089  4.491207e+05       0\n",
       "4  193.700211  38.031804  2.629752e+04      -1"
      ]
     },
     "execution_count": 1579,
     "metadata": {},
     "output_type": "execute_result"
    }
   ],
   "source": [
    "df_main2_db=df_main1_db.iloc[:,[df_main1_db.shape[1]-3,df_main1_db.shape[1]-2,df_main1_db.shape[1]-1]]\n",
    "df_main2_db['labels']=dbscan2.labels_\n",
    "df_main2_db.head()"
   ]
  },
  {
   "cell_type": "code",
   "execution_count": 1580,
   "metadata": {},
   "outputs": [
    {
     "data": {
      "text/html": [
       "<div>\n",
       "<style scoped>\n",
       "    .dataframe tbody tr th:only-of-type {\n",
       "        vertical-align: middle;\n",
       "    }\n",
       "\n",
       "    .dataframe tbody tr th {\n",
       "        vertical-align: top;\n",
       "    }\n",
       "\n",
       "    .dataframe thead th {\n",
       "        text-align: right;\n",
       "    }\n",
       "</style>\n",
       "<table border=\"1\" class=\"dataframe\">\n",
       "  <thead>\n",
       "    <tr style=\"text-align: right;\">\n",
       "      <th></th>\n",
       "      <th>Net_movement</th>\n",
       "      <th>Avg_Risk&amp;Return</th>\n",
       "      <th>Avg_volume</th>\n",
       "      <th>labels</th>\n",
       "    </tr>\n",
       "  </thead>\n",
       "  <tbody>\n",
       "    <tr>\n",
       "      <th>0</th>\n",
       "      <td>-502.100189</td>\n",
       "      <td>17.897943</td>\n",
       "      <td>1.282418e+06</td>\n",
       "      <td>-1</td>\n",
       "    </tr>\n",
       "    <tr>\n",
       "      <th>1</th>\n",
       "      <td>-1.330000</td>\n",
       "      <td>0.068228</td>\n",
       "      <td>6.142804e+06</td>\n",
       "      <td>0</td>\n",
       "    </tr>\n",
       "    <tr>\n",
       "      <th>2</th>\n",
       "      <td>-8.679992</td>\n",
       "      <td>0.622880</td>\n",
       "      <td>7.485095e+07</td>\n",
       "      <td>0</td>\n",
       "    </tr>\n",
       "    <tr>\n",
       "      <th>3</th>\n",
       "      <td>-17.639994</td>\n",
       "      <td>0.617089</td>\n",
       "      <td>4.491207e+05</td>\n",
       "      <td>0</td>\n",
       "    </tr>\n",
       "    <tr>\n",
       "      <th>4</th>\n",
       "      <td>193.700211</td>\n",
       "      <td>38.031804</td>\n",
       "      <td>2.629752e+04</td>\n",
       "      <td>-1</td>\n",
       "    </tr>\n",
       "  </tbody>\n",
       "</table>\n",
       "</div>"
      ],
      "text/plain": [
       "   Net_movement  Avg_Risk&Return    Avg_volume  labels\n",
       "0   -502.100189        17.897943  1.282418e+06      -1\n",
       "1     -1.330000         0.068228  6.142804e+06       0\n",
       "2     -8.679992         0.622880  7.485095e+07       0\n",
       "3    -17.639994         0.617089  4.491207e+05       0\n",
       "4    193.700211        38.031804  2.629752e+04      -1"
      ]
     },
     "execution_count": 1580,
     "metadata": {},
     "output_type": "execute_result"
    }
   ],
   "source": [
    "mydict1_db={df_main1_db.shape[1]-3:'Net_movement',df_main1_db.shape[1]-2:'Avg_Risk&Return',df_main1_db.shape[1]-1:'Avg_volume'}\n",
    "df_main2_db.rename(columns=mydict1_db,inplace=True)\n",
    "df_main2_db.head()"
   ]
  },
  {
   "cell_type": "code",
   "execution_count": 1581,
   "metadata": {},
   "outputs": [
    {
     "data": {
      "text/html": [
       "<div>\n",
       "<style scoped>\n",
       "    .dataframe tbody tr th:only-of-type {\n",
       "        vertical-align: middle;\n",
       "    }\n",
       "\n",
       "    .dataframe tbody tr th {\n",
       "        vertical-align: top;\n",
       "    }\n",
       "\n",
       "    .dataframe thead th {\n",
       "        text-align: right;\n",
       "    }\n",
       "</style>\n",
       "<table border=\"1\" class=\"dataframe\">\n",
       "  <thead>\n",
       "    <tr style=\"text-align: right;\">\n",
       "      <th></th>\n",
       "      <th>Net_movement</th>\n",
       "      <th>Avg_Risk&amp;Return</th>\n",
       "      <th>Avg_volume</th>\n",
       "      <th>labels</th>\n",
       "      <th>companies</th>\n",
       "    </tr>\n",
       "  </thead>\n",
       "  <tbody>\n",
       "    <tr>\n",
       "      <th>22</th>\n",
       "      <td>349.950104</td>\n",
       "      <td>10.322785</td>\n",
       "      <td>987.765823</td>\n",
       "      <td>0</td>\n",
       "      <td>TCIDEVELOP.BO</td>\n",
       "    </tr>\n",
       "    <tr>\n",
       "      <th>4</th>\n",
       "      <td>193.700211</td>\n",
       "      <td>38.031804</td>\n",
       "      <td>26297.518987</td>\n",
       "      <td>-1</td>\n",
       "      <td>TATACOMM.BO</td>\n",
       "    </tr>\n",
       "    <tr>\n",
       "      <th>25</th>\n",
       "      <td>148.199768</td>\n",
       "      <td>20.723577</td>\n",
       "      <td>69023.018987</td>\n",
       "      <td>-1</td>\n",
       "      <td>ADANITRANS.BO</td>\n",
       "    </tr>\n",
       "    <tr>\n",
       "      <th>18</th>\n",
       "      <td>38.420004</td>\n",
       "      <td>0.498576</td>\n",
       "      <td>3172.952532</td>\n",
       "      <td>0</td>\n",
       "      <td>HBESD.BO</td>\n",
       "    </tr>\n",
       "    <tr>\n",
       "      <th>28</th>\n",
       "      <td>27.509895</td>\n",
       "      <td>4.164905</td>\n",
       "      <td>475575.316456</td>\n",
       "      <td>0</td>\n",
       "      <td>IEX</td>\n",
       "    </tr>\n",
       "  </tbody>\n",
       "</table>\n",
       "</div>"
      ],
      "text/plain": [
       "    Net_movement  Avg_Risk&Return     Avg_volume  labels      companies\n",
       "22    349.950104        10.322785     987.765823       0  TCIDEVELOP.BO\n",
       "4     193.700211        38.031804   26297.518987      -1    TATACOMM.BO\n",
       "25    148.199768        20.723577   69023.018987      -1  ADANITRANS.BO\n",
       "18     38.420004         0.498576    3172.952532       0       HBESD.BO\n",
       "28     27.509895         4.164905  475575.316456       0            IEX"
      ]
     },
     "execution_count": 1581,
     "metadata": {},
     "output_type": "execute_result"
    }
   ],
   "source": [
    "comp_list=df['High'].columns\n",
    "\n",
    "df_main2_db['companies']=comp_list\n",
    "df_main2_db.sort_values('Net_movement',ascending=False).head()"
   ]
  },
  {
   "cell_type": "code",
   "execution_count": 1582,
   "metadata": {},
   "outputs": [
    {
     "data": {
      "text/plain": [
       " 0    45\n",
       "-1     9\n",
       "Name: labels, dtype: int64"
      ]
     },
     "execution_count": 1582,
     "metadata": {},
     "output_type": "execute_result"
    }
   ],
   "source": [
    "df_main2_db['labels'].value_counts()"
   ]
  },
  {
   "cell_type": "code",
   "execution_count": 1583,
   "metadata": {},
   "outputs": [
    {
     "data": {
      "text/html": [
       "<div>\n",
       "<style scoped>\n",
       "    .dataframe tbody tr th:only-of-type {\n",
       "        vertical-align: middle;\n",
       "    }\n",
       "\n",
       "    .dataframe tbody tr th {\n",
       "        vertical-align: top;\n",
       "    }\n",
       "\n",
       "    .dataframe thead th {\n",
       "        text-align: right;\n",
       "    }\n",
       "</style>\n",
       "<table border=\"1\" class=\"dataframe\">\n",
       "  <thead>\n",
       "    <tr style=\"text-align: right;\">\n",
       "      <th></th>\n",
       "      <th>Net_movement</th>\n",
       "      <th>Avg_Risk&amp;Return</th>\n",
       "      <th>Avg_volume</th>\n",
       "      <th>labels</th>\n",
       "      <th>companies</th>\n",
       "    </tr>\n",
       "  </thead>\n",
       "  <tbody>\n",
       "    <tr>\n",
       "      <th>0</th>\n",
       "      <td>-502.100189</td>\n",
       "      <td>17.897943</td>\n",
       "      <td>1.282418e+06</td>\n",
       "      <td>-1</td>\n",
       "      <td>BHARTIARTL.BO</td>\n",
       "    </tr>\n",
       "    <tr>\n",
       "      <th>4</th>\n",
       "      <td>193.700211</td>\n",
       "      <td>38.031804</td>\n",
       "      <td>2.629752e+04</td>\n",
       "      <td>-1</td>\n",
       "      <td>TATACOMM.BO</td>\n",
       "    </tr>\n",
       "    <tr>\n",
       "      <th>5</th>\n",
       "      <td>-1487.800171</td>\n",
       "      <td>31.796679</td>\n",
       "      <td>2.309054e+03</td>\n",
       "      <td>-1</td>\n",
       "      <td>VINDHYATEL.BO</td>\n",
       "    </tr>\n",
       "    <tr>\n",
       "      <th>25</th>\n",
       "      <td>148.199768</td>\n",
       "      <td>20.723577</td>\n",
       "      <td>6.902302e+04</td>\n",
       "      <td>-1</td>\n",
       "      <td>ADANITRANS.BO</td>\n",
       "    </tr>\n",
       "    <tr>\n",
       "      <th>26</th>\n",
       "      <td>-760.449799</td>\n",
       "      <td>22.557597</td>\n",
       "      <td>2.161677e+04</td>\n",
       "      <td>-1</td>\n",
       "      <td>CESC.BO</td>\n",
       "    </tr>\n",
       "    <tr>\n",
       "      <th>39</th>\n",
       "      <td>-965.451294</td>\n",
       "      <td>47.303955</td>\n",
       "      <td>4.503341e+04</td>\n",
       "      <td>-1</td>\n",
       "      <td>ACC.BO</td>\n",
       "    </tr>\n",
       "    <tr>\n",
       "      <th>45</th>\n",
       "      <td>-2049.799927</td>\n",
       "      <td>70.563759</td>\n",
       "      <td>8.959981e+03</td>\n",
       "      <td>-1</td>\n",
       "      <td>JKCEMENT.BO</td>\n",
       "    </tr>\n",
       "    <tr>\n",
       "      <th>50</th>\n",
       "      <td>-306.399475</td>\n",
       "      <td>27.305381</td>\n",
       "      <td>2.683774e+04</td>\n",
       "      <td>-1</td>\n",
       "      <td>RAMCOCEM.BO</td>\n",
       "    </tr>\n",
       "    <tr>\n",
       "      <th>53</th>\n",
       "      <td>-612.449707</td>\n",
       "      <td>145.498738</td>\n",
       "      <td>2.649304e+04</td>\n",
       "      <td>-1</td>\n",
       "      <td>ULTRACEMCO.BO</td>\n",
       "    </tr>\n",
       "  </tbody>\n",
       "</table>\n",
       "</div>"
      ],
      "text/plain": [
       "    Net_movement  Avg_Risk&Return    Avg_volume  labels      companies\n",
       "0    -502.100189        17.897943  1.282418e+06      -1  BHARTIARTL.BO\n",
       "4     193.700211        38.031804  2.629752e+04      -1    TATACOMM.BO\n",
       "5   -1487.800171        31.796679  2.309054e+03      -1  VINDHYATEL.BO\n",
       "25    148.199768        20.723577  6.902302e+04      -1  ADANITRANS.BO\n",
       "26   -760.449799        22.557597  2.161677e+04      -1        CESC.BO\n",
       "39   -965.451294        47.303955  4.503341e+04      -1         ACC.BO\n",
       "45  -2049.799927        70.563759  8.959981e+03      -1    JKCEMENT.BO\n",
       "50   -306.399475        27.305381  2.683774e+04      -1    RAMCOCEM.BO\n",
       "53   -612.449707       145.498738  2.649304e+04      -1  ULTRACEMCO.BO"
      ]
     },
     "execution_count": 1583,
     "metadata": {},
     "output_type": "execute_result"
    }
   ],
   "source": [
    "df_main2_db[df_main2_db['labels']==-1]"
   ]
  },
  {
   "cell_type": "code",
   "execution_count": 1591,
   "metadata": {},
   "outputs": [
    {
     "data": {
      "image/png": "[encoded data removed]",
      "text/plain": [
       "<Figure size 720x360 with 1 Axes>"
      ]
     },
     "metadata": {
      "needs_background": "light"
     },
     "output_type": "display_data"
    }
   ],
   "source": [
    "plt.figure(figsize=(10, 5))\n",
    "sns.scatterplot(df_main2_db['Net_movement'], df_main2_db['Avg_Risk&Return'],hue=df_main2_db['labels'],palette='coolwarm' )\n",
    "plt.show()"
   ]
  },
  {
   "cell_type": "markdown",
   "metadata": {},
   "source": [
    "**Interpretation:**<br> There are Total of 9 out of 54 companies whcih are outliers as they have high Risk and Return but\n",
    "after performing dbscan we observe that out of 54 companies 9 companies falls as outliers since their risk & return is good and popularity is moderate where as movement of 9 companies are bad."
   ]
  },
  {
   "cell_type": "markdown",
   "metadata": {},
   "source": [
    "<a id=\"rec\"></a>\n",
    "### 7. Recommendation Based on Cluster Analysis"
   ]
  },
  {
   "cell_type": "code",
   "execution_count": 116,
   "metadata": {},
   "outputs": [],
   "source": [
    "d2=pd.DataFrame(columns=df3.columns)\n",
    "i=0\n",
    "while(i<df3['labels'].nunique()):\n",
    "    d1=df3[df3['labels']==i].sort_values(by=['Avg_Risk&Return','Net_movement'],ascending=False).head(4)\n",
    "    d2=d2.append(d1,ignore_index=True)\n",
    "    i+=1"
   ]
  },
  {
   "cell_type": "code",
   "execution_count": 117,
   "metadata": {},
   "outputs": [
    {
     "data": {
      "text/html": [
       "<div>\n",
       "<style scoped>\n",
       "    .dataframe tbody tr th:only-of-type {\n",
       "        vertical-align: middle;\n",
       "    }\n",
       "\n",
       "    .dataframe tbody tr th {\n",
       "        vertical-align: top;\n",
       "    }\n",
       "\n",
       "    .dataframe thead th {\n",
       "        text-align: right;\n",
       "    }\n",
       "</style>\n",
       "<table border=\"1\" class=\"dataframe\">\n",
       "  <thead>\n",
       "    <tr style=\"text-align: right;\">\n",
       "      <th></th>\n",
       "      <th>Net_movement</th>\n",
       "      <th>Avg_Risk&amp;Return</th>\n",
       "      <th>Avg_volume</th>\n",
       "      <th>labels</th>\n",
       "      <th>companies</th>\n",
       "    </tr>\n",
       "  </thead>\n",
       "  <tbody>\n",
       "    <tr>\n",
       "      <th>0</th>\n",
       "      <td>349.950104</td>\n",
       "      <td>10.322785</td>\n",
       "      <td>9.877658e+02</td>\n",
       "      <td>0</td>\n",
       "      <td>TCIDEVELOP.BO</td>\n",
       "    </tr>\n",
       "    <tr>\n",
       "      <th>1</th>\n",
       "      <td>27.509895</td>\n",
       "      <td>4.164905</td>\n",
       "      <td>4.755753e+05</td>\n",
       "      <td>0</td>\n",
       "      <td>IEX</td>\n",
       "    </tr>\n",
       "    <tr>\n",
       "      <th>2</th>\n",
       "      <td>-57.969993</td>\n",
       "      <td>0.999335</td>\n",
       "      <td>7.609263e+03</td>\n",
       "      <td>0</td>\n",
       "      <td>SUPREME.BO</td>\n",
       "    </tr>\n",
       "    <tr>\n",
       "      <th>3</th>\n",
       "      <td>38.420004</td>\n",
       "      <td>0.498576</td>\n",
       "      <td>3.172953e+03</td>\n",
       "      <td>0</td>\n",
       "      <td>HBESD.BO</td>\n",
       "    </tr>\n",
       "    <tr>\n",
       "      <th>4</th>\n",
       "      <td>193.700211</td>\n",
       "      <td>38.031804</td>\n",
       "      <td>2.629752e+04</td>\n",
       "      <td>1</td>\n",
       "      <td>TATACOMM.BO</td>\n",
       "    </tr>\n",
       "    <tr>\n",
       "      <th>5</th>\n",
       "      <td>-1487.800171</td>\n",
       "      <td>31.796679</td>\n",
       "      <td>2.309054e+03</td>\n",
       "      <td>1</td>\n",
       "      <td>VINDHYATEL.BO</td>\n",
       "    </tr>\n",
       "    <tr>\n",
       "      <th>6</th>\n",
       "      <td>-189.749947</td>\n",
       "      <td>4.763133</td>\n",
       "      <td>1.461388e+05</td>\n",
       "      <td>1</td>\n",
       "      <td>ITI.BO</td>\n",
       "    </tr>\n",
       "    <tr>\n",
       "      <th>7</th>\n",
       "      <td>-11.349960</td>\n",
       "      <td>3.020570</td>\n",
       "      <td>3.324632e+06</td>\n",
       "      <td>1</td>\n",
       "      <td>JSWENERGY.NS</td>\n",
       "    </tr>\n",
       "    <tr>\n",
       "      <th>8</th>\n",
       "      <td>-612.449707</td>\n",
       "      <td>145.498738</td>\n",
       "      <td>2.649304e+04</td>\n",
       "      <td>2</td>\n",
       "      <td>ULTRACEMCO.BO</td>\n",
       "    </tr>\n",
       "    <tr>\n",
       "      <th>9</th>\n",
       "      <td>-2049.799927</td>\n",
       "      <td>70.563759</td>\n",
       "      <td>8.959981e+03</td>\n",
       "      <td>2</td>\n",
       "      <td>JKCEMENT.BO</td>\n",
       "    </tr>\n",
       "    <tr>\n",
       "      <th>10</th>\n",
       "      <td>-965.451294</td>\n",
       "      <td>47.303955</td>\n",
       "      <td>4.503341e+04</td>\n",
       "      <td>2</td>\n",
       "      <td>ACC.BO</td>\n",
       "    </tr>\n",
       "    <tr>\n",
       "      <th>11</th>\n",
       "      <td>-306.399475</td>\n",
       "      <td>27.305381</td>\n",
       "      <td>2.683774e+04</td>\n",
       "      <td>2</td>\n",
       "      <td>RAMCOCEM.BO</td>\n",
       "    </tr>\n",
       "  </tbody>\n",
       "</table>\n",
       "</div>"
      ],
      "text/plain": [
       "    Net_movement  Avg_Risk&Return    Avg_volume labels      companies\n",
       "0     349.950104        10.322785  9.877658e+02      0  TCIDEVELOP.BO\n",
       "1      27.509895         4.164905  4.755753e+05      0            IEX\n",
       "2     -57.969993         0.999335  7.609263e+03      0     SUPREME.BO\n",
       "3      38.420004         0.498576  3.172953e+03      0       HBESD.BO\n",
       "4     193.700211        38.031804  2.629752e+04      1    TATACOMM.BO\n",
       "5   -1487.800171        31.796679  2.309054e+03      1  VINDHYATEL.BO\n",
       "6    -189.749947         4.763133  1.461388e+05      1         ITI.BO\n",
       "7     -11.349960         3.020570  3.324632e+06      1   JSWENERGY.NS\n",
       "8    -612.449707       145.498738  2.649304e+04      2  ULTRACEMCO.BO\n",
       "9   -2049.799927        70.563759  8.959981e+03      2    JKCEMENT.BO\n",
       "10   -965.451294        47.303955  4.503341e+04      2         ACC.BO\n",
       "11   -306.399475        27.305381  2.683774e+04      2    RAMCOCEM.BO"
      ]
     },
     "execution_count": 117,
     "metadata": {},
     "output_type": "execute_result"
    }
   ],
   "source": [
    "d2"
   ]
  },
  {
   "cell_type": "markdown",
   "metadata": {},
   "source": [
    "**---END---**"
   ]
  }
 ],
 "metadata": {
  "kernelspec": {
   "display_name": "Python 3 (ipykernel)",
   "language": "python",
   "name": "python3"
  },
  "language_info": {
   "codemirror_mode": {
    "name": "ipython",
    "version": 3
   },
   "file_extension": ".py",
   "mimetype": "text/x-python",
   "name": "python",
   "nbconvert_exporter": "python",
   "pygments_lexer": "ipython3",
   "version": "3.10.9"
  }
 },
 "nbformat": 4,
 "nbformat_minor": 4
}
